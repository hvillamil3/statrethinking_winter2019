{
 "cells": [
  {
   "cell_type": "code",
   "execution_count": 29,
   "metadata": {
    "code_folding": [
     0
    ]
   },
   "outputs": [],
   "source": [
    "# libraries\n",
    "options(repr.plot.width=4, repr.plot.height=4)\n",
    "library(rethinking)"
   ]
  },
  {
   "cell_type": "markdown",
   "metadata": {},
   "source": [
    "# Q1\n",
    "- The weights listed below were recorded in the !Kung census, but heights\n",
    "were not recorded for these individuals.\n",
    "- Provide predicted heights and 89%\n",
    "compatibility intervals for each of these individuals.\n",
    "- That is, fill in the table\n",
    "below, using model-based predictions."
   ]
  },
  {
   "cell_type": "markdown",
   "metadata": {
    "heading_collapsed": true
   },
   "source": [
    "### Model"
   ]
  },
  {
   "cell_type": "code",
   "execution_count": 30,
   "metadata": {
    "code_folding": [
     0
    ],
    "hidden": true
   },
   "outputs": [
    {
     "data": {
      "text/plain": [
       "\n",
       "Quadratic approximate posterior distribution\n",
       "\n",
       "Formula:\n",
       "height ~ dnorm(mu, sigma)\n",
       "mu <- a + b1 * weight\n",
       "a ~ dnorm(0, 1)\n",
       "b1 ~ dlnorm(0, 1)\n",
       "sigma ~ dlnorm(0, 1)\n",
       "\n",
       "Posterior means:\n",
       "            a            b1         sigma \n",
       "-4.402507e-07  9.406114e-01  3.386137e-01 \n",
       "\n",
       "Log-likelihood: -182.77 "
      ]
     },
     "metadata": {},
     "output_type": "display_data"
    }
   ],
   "source": [
    "# We want to predict height using weight.(model)\n",
    "# Individual | weight | expected height | 89% interval<p>\n",
    "#      1     | 45\n",
    "#      2     | 40\n",
    "#      3     | 65\n",
    "#      4     | 31\n",
    "#      5     | 53\n",
    "\n",
    "data(Howell1)\n",
    "d <- Howell1\n",
    "\n",
    "# Standardize data\n",
    "std.d <- data.frame(scale(d))\n",
    "# attributes(scale(d))\n",
    "\n",
    "# data is at the individual level.\n",
    "flist <- alist(\n",
    "    height ~ dnorm( mu, sigma ),\n",
    "    mu <- a + b1*weight ,\n",
    "    a ~ dnorm(0,1),\n",
    "    b1 ~ dlnorm(0,1),\n",
    "    sigma ~ dlnorm(0,1)\n",
    ")\n",
    "model <- quap(flist = flist, data =list(height=std.d$height,\n",
    "                                        weight=std.d$weight))\n",
    "model"
   ]
  },
  {
   "cell_type": "markdown",
   "metadata": {
    "heading_collapsed": true
   },
   "source": [
    "### Prediction"
   ]
  },
  {
   "cell_type": "code",
   "execution_count": 49,
   "metadata": {
    "code_folding": [
     0
    ],
    "hidden": true
   },
   "outputs": [
    {
     "data": {
      "text/html": [
       "<table>\n",
       "<thead><tr><th scope=col>weight</th><th scope=col>mu</th><th scope=col>Lower89</th><th scope=col>Upperr89</th></tr></thead>\n",
       "<tbody>\n",
       "\t<tr><td>45   </td><td>144.9</td><td>133.4</td><td>156.1</td></tr>\n",
       "\t<tr><td>40   </td><td>141.0</td><td>130.3</td><td>152.7</td></tr>\n",
       "\t<tr><td>65   </td><td>159.0</td><td>148.1</td><td>169.7</td></tr>\n",
       "\t<tr><td>31   </td><td>135.0</td><td>124.3</td><td>146.3</td></tr>\n",
       "\t<tr><td>53   </td><td>150.2</td><td>138.6</td><td>161.4</td></tr>\n",
       "</tbody>\n",
       "</table>\n"
      ],
      "text/latex": [
       "\\begin{tabular}{r|llll}\n",
       " weight & mu & Lower89 & Upperr89\\\\\n",
       "\\hline\n",
       "\t 45    & 144.9 & 133.4 & 156.1\\\\\n",
       "\t 40    & 141.0 & 130.3 & 152.7\\\\\n",
       "\t 65    & 159.0 & 148.1 & 169.7\\\\\n",
       "\t 31    & 135.0 & 124.3 & 146.3\\\\\n",
       "\t 53    & 150.2 & 138.6 & 161.4\\\\\n",
       "\\end{tabular}\n"
      ],
      "text/markdown": [
       "\n",
       "weight | mu | Lower89 | Upperr89 | \n",
       "|---|---|---|---|---|\n",
       "| 45    | 144.9 | 133.4 | 156.1 | \n",
       "| 40    | 141.0 | 130.3 | 152.7 | \n",
       "| 65    | 159.0 | 148.1 | 169.7 | \n",
       "| 31    | 135.0 | 124.3 | 146.3 | \n",
       "| 53    | 150.2 | 138.6 | 161.4 | \n",
       "\n",
       "\n"
      ],
      "text/plain": [
       "  weight mu    Lower89 Upperr89\n",
       "1 45     144.9 133.4   156.1   \n",
       "2 40     141.0 130.3   152.7   \n",
       "3 65     159.0 148.1   169.7   \n",
       "4 31     135.0 124.3   146.3   \n",
       "5 53     150.2 138.6   161.4   "
      ]
     },
     "metadata": {},
     "output_type": "display_data"
    }
   ],
   "source": [
    "# What I want to predict\n",
    "d.pred <- data.frame(\n",
    "    weight = c(45,40,65,31,53)\n",
    ")\n",
    "# Convert weights to z-score because data was standardized\n",
    "z.score <- function(x) {(x - 35.6106175924632)/27.6024476405647}\n",
    "# z.score(d.pred$weight)\n",
    "# 0.340164848052754 0.159021492031965 1.06473827213591 -0.167036548805455 0.629994217686017\n",
    "\n",
    "# Uncertainty around parameter mu\n",
    "height.posterior <- link(fit = model,data=list(weight=z.score(d.pred$weight)))\n",
    "\n",
    "# Uncertainty around sampling (predictions)\n",
    "sim.height <- sim( model , data = list(weight=z.score(d.pred$weight)) )\n",
    "# extract.samples(model) # parameters\n",
    "\n",
    "# Since we standardized before the modeling we now reverse the standardization.\n",
    "# also we use the mu and sd of the target variable (height)\n",
    "\n",
    "# Unstandardized height\n",
    "rev.z.score <- function(x) {(138.263596323529)+x*(20.746888222142)}\n",
    "\n",
    "# Height Predictions are.. \n",
    "d.pred$mu <- apply( rev.z.score(sim.height) , 2 , mean)\n",
    "d.pred$Lower89 <- apply( rev.z.score(sim.height) , 2 , PI,  prob=0.89 )[1,]\n",
    "d.pred$Upperr89 <- apply( rev.z.score(sim.height) , 2 , PI,  prob=0.89 )[2,]\n",
    "round(d.pred,1)"
   ]
  },
  {
   "cell_type": "markdown",
   "metadata": {
    "heading_collapsed": true
   },
   "source": [
    "### Plot"
   ]
  },
  {
   "cell_type": "code",
   "execution_count": 37,
   "metadata": {
    "code_folding": [
     0,
     7
    ],
    "hidden": true
   },
   "outputs": [
    {
     "ename": "ERROR",
     "evalue": "Error in png(tf, width, height, \"in\", pointsize, bg, res, antialias = antialias): unable to start png() device\n",
     "output_type": "error",
     "traceback": [
      "Error in png(tf, width, height, \"in\", pointsize, bg, res, antialias = antialias): unable to start png() device\nTraceback:\n"
     ]
    },
    {
     "data": {
      "text/plain": [
       "Plot with title \"individual ~ height\""
      ]
     },
     "metadata": {},
     "output_type": "display_data"
    }
   ],
   "source": [
    "# Plots\n",
    "plot( individual ~ height , list(\n",
    "    height = rev.z.score(apply( sim.height , 2 , mean, prob=0.89 )),\n",
    "    individual = c(1,2,3,4,5)\n",
    ") , col=col.alpha(rangi2,1), xlim=c(120,170),\n",
    "     pch = 16, main='individual ~ height')\n",
    "# extra remove brackets\n",
    "[for ( i in 1:5 )\n",
    "    lines(x=c(rev.z.score(apply( sim.height , 2 , PI,  prob=0.89 )[i+(i-1)]),\n",
    "              rev.z.score(apply( sim.height , 2 , PI,  prob=0.89 )[i+i])),\n",
    "          y=c(i,i), lwd = 2 )\n",
    "# needed multiple for loops because didnt work otherwise.\n",
    "for ( i in 1:5 )\n",
    "    abline(v=rev.z.score(apply( sim.height , 2 , PI,  prob=0.89 )[i+(i-1)]),\n",
    "           lty=2,\n",
    "           col=c(ifelse((i+(i-1)) %% 2 ==0,'green','blue'),col.alpha(rangi2,0.5)),\n",
    "           lwd=2)\n",
    "for ( i in 1:5 )\n",
    "    abline(v=rev.z.score(apply( sim.height , 2 , PI,  prob=0.89 )[i+i]),\n",
    "           lty=2,\n",
    "           col=ifelse((i+(i-1)) %% 2 ==0,'blue','green'),\n",
    "           lwd=0)\n",
    "abline(v = mean(d$height), col='red', lty=2, lwd=2)]"
   ]
  },
  {
   "cell_type": "markdown",
   "metadata": {},
   "source": [
    "# Q2\n",
    "- Model the relationship between height (cm) and the natural logarithm of\n",
    "weight (log-kg):<p> log(weight).\n",
    "- Use the entire Howell1 data frame, all 544 rows, adults and non-adults. \n",
    "- Use any model type from Chapter 4 that you think useful:\n",
    "- an ordinary linear regression, a polynomial or a spline. \n",
    "- Plot the posterior predictions against the raw data."
   ]
  },
  {
   "cell_type": "code",
   "execution_count": null,
   "metadata": {
    "code_folding": [
     0
    ]
   },
   "outputs": [],
   "source": [
    "# model\n",
    "d$log_weight <- log(d$weight)\n",
    "# Standardize data\n",
    "std.d2 <- data.frame(scale(d))\n",
    "# data is at the individual level\n",
    "flist <- alist(\n",
    "    height ~ dnorm( mu, sigma ),\n",
    "    mu <- a + b1*log_weight ,\n",
    "    a ~ dnorm(0,1),\n",
    "    b1 ~ dlnorm(0,1),\n",
    "    sigma ~ dlnorm(0,1)\n",
    ")\n",
    "model1 <- quap(flist = flist, data =list(height=std.d2$height,\n",
    "                                         log_weight=std.d2$log_weight) )\n",
    "model1"
   ]
  },
  {
   "cell_type": "code",
   "execution_count": 63,
   "metadata": {
    "code_folding": [
     0
    ]
   },
   "outputs": [
    {
     "data": {
      "text/html": [
       "<table>\n",
       "<tbody>\n",
       "\t<tr><th scope=row>5%</th><td>147.5050</td><td>141.8595</td><td>164.5243</td><td>130.1418</td><td>154.5504</td></tr>\n",
       "\t<tr><th scope=row>94%</th><td>163.6768</td><td>158.4640</td><td>181.0233</td><td>145.8940</td><td>171.4903</td></tr>\n",
       "</tbody>\n",
       "</table>\n"
      ],
      "text/latex": [
       "\\begin{tabular}{r|lllll}\n",
       "\t5\\% & 147.5050 & 141.8595 & 164.5243 & 130.1418 & 154.5504\\\\\n",
       "\t94\\% & 163.6768 & 158.4640 & 181.0233 & 145.8940 & 171.4903\\\\\n",
       "\\end{tabular}\n"
      ],
      "text/markdown": [
       "\n",
       "| 5% | 147.5050 | 141.8595 | 164.5243 | 130.1418 | 154.5504 | \n",
       "| 94% | 163.6768 | 158.4640 | 181.0233 | 145.8940 | 171.4903 | \n",
       "\n",
       "\n"
      ],
      "text/plain": [
       "    [,1]     [,2]     [,3]     [,4]     [,5]    \n",
       "5%  147.5050 141.8595 164.5243 130.1418 154.5504\n",
       "94% 163.6768 158.4640 181.0233 145.8940 171.4903"
      ]
     },
     "metadata": {},
     "output_type": "display_data"
    },
    {
     "data": {
      "text/html": [
       "<ol class=list-inline>\n",
       "\t<li>155.526312883566</li>\n",
       "\t<li>149.835739706919</li>\n",
       "\t<li>172.829255294995</li>\n",
       "\t<li>138.071969927411</li>\n",
       "\t<li>163.278394038826</li>\n",
       "</ol>\n"
      ],
      "text/latex": [
       "\\begin{enumerate*}\n",
       "\\item 155.526312883566\n",
       "\\item 149.835739706919\n",
       "\\item 172.829255294995\n",
       "\\item 138.071969927411\n",
       "\\item 163.278394038826\n",
       "\\end{enumerate*}\n"
      ],
      "text/markdown": [
       "1. 155.526312883566\n",
       "2. 149.835739706919\n",
       "3. 172.829255294995\n",
       "4. 138.071969927411\n",
       "5. 163.278394038826\n",
       "\n",
       "\n"
      ],
      "text/plain": [
       "[1] 155.5263 149.8357 172.8293 138.0720 163.2784"
      ]
     },
     "metadata": {},
     "output_type": "display_data"
    }
   ],
   "source": [
    "# Predictions\n",
    "# z-scores for log_weight\n",
    "z_score_log <- function(x) {(x - 3.44232984801386)/0.575959647001175}\n",
    "\n",
    "# unstandardize weights\n",
    "inv_z_score_log <- function(x) {138.263596323529 + (x*27.6024476405647)}\n",
    "\n",
    "# Uncertainty around parameter.\n",
    "height.posterior <- link(fit = model1,data=list(log_weight=z_score_log(log(d.pred$weight))))\n",
    "# Uncertainty around sampling,prediction\n",
    "sim.height <- sim( model1 , data = list(log_weight=z_score_log(log(d.pred$weight))) )\n",
    "# prediction\n",
    "inv_z_score_log(apply(sim.height, 2, PI, .89))\n",
    "inv_z_score_log(apply(sim.height, 2, mean))"
   ]
  },
  {
   "cell_type": "markdown",
   "metadata": {
    "heading_collapsed": true
   },
   "source": [
    "### Plot"
   ]
  },
  {
   "cell_type": "code",
   "execution_count": null,
   "metadata": {
    "code_folding": [
     0
    ],
    "hidden": true
   },
   "outputs": [],
   "source": [
    "# Plot not working in tablet env\n",
    "plot( individual ~ height , list(\n",
    "    height = inv_z_score_log(apply( sim.height , 2 , mean, prob=0.89 )),\n",
    "    individual = c(1,2,3,4,5)\n",
    ") , col=col.alpha(rangi2,1), xlim=c(126,185),\n",
    "     pch = 16 )\n",
    "for ( i in 1:5 )\n",
    "    lines(x=c(inv_z_score_log(apply( sim.height , 2 , PI,  prob=0.89 )[i+(i-1)]),\n",
    "              inv_z_score_log(apply( sim.height , 2 , PI,  prob=0.89 )[i+i])),\n",
    "          y=c(i,i), lwd = 2 )\n",
    "# needed multiple for loops because didnt work otherwise.\n",
    "for ( i in 1:5 )\n",
    "    abline(v=inv_z_score_log(apply( sim.height , 2 , PI,  prob=0.89 )[i+(i-1)]),\n",
    "           lty=2,\n",
    "           col=c(ifelse((i+(i-1)) %% 2 ==0,'green','blue'),col.alpha(rangi2,0.5)),\n",
    "           lwd=2)\n",
    "for ( i in 1:5 )\n",
    "    abline(v=inv_z_score_log(apply( sim.height , 2 , PI,  prob=0.89 )[i+i]),\n",
    "           lty=2,\n",
    "           col=ifelse((i+(i-1)) %% 2 ==0,'blue','green'),\n",
    "           lwd=0)\n",
    "abline(v = mean(d$height), col='red', lty=2, lwd=2)"
   ]
  },
  {
   "cell_type": "code",
   "execution_count": 65,
   "metadata": {
    "code_folding": [
     0
    ],
    "hidden": true
   },
   "outputs": [],
   "source": [
    "# Plot 2 (zoom in)\n",
    "seq.w <- seq(3, 64, 1)\n",
    "\n",
    "sim.height_vs_data <- sim( model1 ,\n",
    "                          data = list(log_weight=z_score_log(log(seq.w))))\n",
    "\n",
    "mu.height <- link(model1 , data = list(log_weight=z_score_log(log(seq.w))))\n",
    "\n",
    "mu <- inv_z_score_log(apply( mu.height , 2 , mean ))\n",
    "\n",
    "mu.PI <- inv_z_score_log(apply( mu.height , 2 , PI, prob=0.89 ))\n",
    "\n",
    "height.PI <- inv_z_score_log(apply( sim.height_vs_data , 2 , PI, prob=0.89 ))\n",
    "\n",
    "plot(d$height~d$log_weight,\n",
    "     col=col.alpha(rangi2,0.5),\n",
    "     xlim=range(20,26),\n",
    "     ylim=range(110,130)\n",
    "    )\n",
    "lines(seq.w, mu )\n",
    "shade(mu.PI, seq.w )\n",
    "shade(height.PI, seq.w )"
   ]
  },
  {
   "cell_type": "code",
   "execution_count": null,
   "metadata": {
    "code_folding": [
     0
    ],
    "hidden": true
   },
   "outputs": [],
   "source": [
    "# q-q plot actual ~ predictions\n",
    "plot(d$height~inv_z_score_log(apply(link(model1) , 2 , mean )),\n",
    "     xlab = 'Mu Model Posterior'\n",
    "    )\n",
    "abline(a = 0, b = 1 )"
   ]
  },
  {
   "cell_type": "code",
   "execution_count": null,
   "metadata": {
    "code_folding": [
     0
    ],
    "hidden": true
   },
   "outputs": [],
   "source": [
    "# dens plot\n",
    "dens(d$height, col='black')\n",
    "dens(inv_z_score_log(sim.height_vs_data), ylim=range(0,0.03), col='red', add = TRUE)\n",
    "abline(v = mean(inv_z_score_log(sim.height_vs_data)), col='red', lty=2, lwd=2)\n",
    "abline(v = mean(d$height), col='black', lty=2, lwd=2)"
   ]
  },
  {
   "cell_type": "markdown",
   "metadata": {},
   "source": [
    "# Q3\n",
    "- Plot the prior predictive distribution for the polynomial regression model in Chapter 4.  \n",
    "Section 4.5.1 (pg.111)\n",
    "- You can modify the code that plots the linear regression prior predictive distribution. \n",
    "- 20 or 30 parabolas from the prior should suffice to show where the prior probability resides.\n",
    "- Can you modify the prior distributions of α, β1, and β2 so that the prior\n",
    "predictions stay within the biologically reasonable outcome space?\n",
    "- That is to say: Do not try to fit the data by hand.\n",
    "- But do try to keep the curves consistent with what you know about height and weight,\n",
    "before seeing these exact data.\n"
   ]
  },
  {
   "cell_type": "code",
   "execution_count": 192,
   "metadata": {},
   "outputs": [
    {
     "data": {
      "image/png": "[encoded data removed]",
      "text/plain": [
       "plot without title"
      ]
     },
     "metadata": {},
     "output_type": "display_data"
    }
   ],
   "source": [
    "library(rethinking)\n",
    "data(Howell1)\n",
    "d <- Howell1\n",
    "d$weight_s <- ( d$weight - mean(d$weight) )/sd(d$weight)\n",
    "d$weight_s2 <- d$weight_s^2\n",
    "m4.5 <- quap(\n",
    "alist(\n",
    "height ~ dnorm( mu , sigma ) ,\n",
    "mu <- a + b1*weight_s + b2*weight_s2 ,\n",
    "a ~ dnorm( 178 , 20 ) ,\n",
    "b1 ~ dlnorm( 0 , 1 ) ,\n",
    "b2 ~ dnorm( 0 , 1 ) ,\n",
    "sigma ~ dunif( 0 , 50 )\n",
    ") ,\n",
    "data=d )\n",
    "\n",
    "set.seed(10)\n",
    "prior <- extract.prior( m4.5 )\n",
    "mu <- link( m4.5 , post=prior , data=list( a=c(178,178), weight_s=c(-3,3), weight_s2=c(-3,3)))\n",
    "plot( NULL , xlim=c(-2,2) , ylim=c(50,220) )\n",
    "for ( i in 1:50 ) lines( c(-2,2) , mu[i,] , col=col.alpha(\"black\",0.4) )"
   ]
  },
  {
   "cell_type": "code",
   "execution_count": 196,
   "metadata": {},
   "outputs": [
    {
     "data": {
      "text/html": [
       "<table>\n",
       "<thead><tr><th></th><th scope=col>mean</th><th scope=col>sd</th><th scope=col>5.5%</th><th scope=col>94.5%</th><th scope=col>histogram</th></tr></thead>\n",
       "<tbody>\n",
       "\t<tr><th scope=row>a</th><td>177.60867247                                                                                                                                                                                    </td><td>20.7249835                                                                                                                                                                                      </td><td>144.1785056                                                                                                                                                                                     </td><td>211.421234                                                                                                                                                                                      </td><td><span style=white-space:pre-wrap>&lt;U+2581&gt;&lt;U+2581&gt;&lt;U+2583&gt;&lt;U+2587&gt;&lt;U+2587&gt;&lt;U+2582&gt;&lt;U+2581&gt;&lt;U+2581&gt;                                        </span></td></tr>\n",
       "\t<tr><th scope=row>b1</th><td><span style=white-space:pre-wrap>  1.61236478</span>                                                                                                                                                        </td><td> 1.8754510                                                                                                                                                                                                  </td><td><span style=white-space:pre-wrap>  0.1867143</span>                                                                                                                                                         </td><td><span style=white-space:pre-wrap>  4.433442</span>                                                                                                                                                          </td><td><span style=white-space:pre-wrap>&lt;U+2587&gt;&lt;U+2582&gt;&lt;U+2581&gt;&lt;U+2581&gt;&lt;U+2581&gt;&lt;U+2581&gt;&lt;U+2581&gt;&lt;U+2581&gt;&lt;U+2581&gt;&lt;U+2581&gt;                        </span></td></tr>\n",
       "\t<tr><th scope=row>b2</th><td> -0.05036862                                                                                                                                                                          </td><td> 0.9688063                                                                                                                                                                            </td><td> -1.6422983                                                                                                                                                                           </td><td><span style=white-space:pre-wrap>  1.447121</span>                                                                                                                                    </td><td>&lt;U+2581&gt;&lt;U+2581&gt;&lt;U+2581&gt;&lt;U+2582&gt;&lt;U+2583&gt;&lt;U+2585&gt;&lt;U+2587&gt;&lt;U+2587&gt;&lt;U+2585&gt;&lt;U+2583&gt;&lt;U+2581&gt;&lt;U+2581&gt;&lt;U+2581&gt;</td></tr>\n",
       "\t<tr><th scope=row>sigma</th><td> 25.14432248                                                                                                                                                                                                </td><td>14.5856372                                                                                                                                                                                                  </td><td><span style=white-space:pre-wrap>  2.5161320</span>                                                                                                                                                         </td><td> 47.371388                                                                                                                                                                                                  </td><td><span style=white-space:pre-wrap>&lt;U+2587&gt;&lt;U+2587&gt;&lt;U+2585&gt;&lt;U+2587&gt;&lt;U+2587&gt;&lt;U+2587&gt;&lt;U+2587&gt;&lt;U+2587&gt;&lt;U+2587&gt;&lt;U+2587&gt;                        </span></td></tr>\n",
       "</tbody>\n",
       "</table>\n"
      ],
      "text/latex": [
       "\\begin{tabular}{r|lllll}\n",
       "  & mean & sd & 5.5\\% & 94.5\\% & histogram\\\\\n",
       "\\hline\n",
       "\ta & 177.60867247                                                                                             & 20.7249835                                                                                               & 144.1785056                                                                                              & 211.421234                                                                                               & <U+2581><U+2581><U+2583><U+2587><U+2587><U+2582><U+2581><U+2581>                                        \\\\\n",
       "\tb1 &   1.61236478                                                                                             &  1.8754510                                                                                               &   0.1867143                                                                                              &   4.433442                                                                                               & <U+2587><U+2582><U+2581><U+2581><U+2581><U+2581><U+2581><U+2581><U+2581><U+2581>                        \\\\\n",
       "\tb2 &  -0.05036862                                                                                             &  0.9688063                                                                                               &  -1.6422983                                                                                              &   1.447121                                                                                               & <U+2581><U+2581><U+2581><U+2582><U+2583><U+2585><U+2587><U+2587><U+2585><U+2583><U+2581><U+2581><U+2581>\\\\\n",
       "\tsigma &  25.14432248                                                                                             & 14.5856372                                                                                               &   2.5161320                                                                                              &  47.371388                                                                                               & <U+2587><U+2587><U+2585><U+2587><U+2587><U+2587><U+2587><U+2587><U+2587><U+2587>                        \\\\\n",
       "\\end{tabular}\n"
      ],
      "text/markdown": [
       "\n",
       "| <!--/--> | mean | sd | 5.5% | 94.5% | histogram | \n",
       "|---|---|---|---|\n",
       "| a | 177.60867247                                                                                             | 20.7249835                                                                                               | 144.1785056                                                                                              | 211.421234                                                                                               | <U+2581><U+2581><U+2583><U+2587><U+2587><U+2582><U+2581><U+2581>                                         | \n",
       "| b1 |   1.61236478                                                                                             |  1.8754510                                                                                               |   0.1867143                                                                                              |   4.433442                                                                                               | <U+2587><U+2582><U+2581><U+2581><U+2581><U+2581><U+2581><U+2581><U+2581><U+2581>                         | \n",
       "| b2 |  -0.05036862                                                                                             |  0.9688063                                                                                               |  -1.6422983                                                                                              |   1.447121                                                                                               | <U+2581><U+2581><U+2581><U+2582><U+2583><U+2585><U+2587><U+2587><U+2585><U+2583><U+2581><U+2581><U+2581> | \n",
       "| sigma |  25.14432248                                                                                             | 14.5856372                                                                                               |   2.5161320                                                                                              |  47.371388                                                                                               | <U+2587><U+2587><U+2585><U+2587><U+2587><U+2587><U+2587><U+2587><U+2587><U+2587>                         | \n",
       "\n",
       "\n"
      ],
      "text/plain": [
       "      mean         sd         5.5%        94.5%     \n",
       "a     177.60867247 20.7249835 144.1785056 211.421234\n",
       "b1      1.61236478  1.8754510   0.1867143   4.433442\n",
       "b2     -0.05036862  0.9688063  -1.6422983   1.447121\n",
       "sigma  25.14432248 14.5856372   2.5161320  47.371388\n",
       "      histogram                                                                                               \n",
       "a     <U+2581><U+2581><U+2583><U+2587><U+2587><U+2582><U+2581><U+2581>                                        \n",
       "b1    <U+2587><U+2582><U+2581><U+2581><U+2581><U+2581><U+2581><U+2581><U+2581><U+2581>                        \n",
       "b2    <U+2581><U+2581><U+2581><U+2582><U+2583><U+2585><U+2587><U+2587><U+2585><U+2583><U+2581><U+2581><U+2581>\n",
       "sigma <U+2587><U+2587><U+2585><U+2587><U+2587><U+2587><U+2587><U+2587><U+2587><U+2587>                        "
      ]
     },
     "metadata": {},
     "output_type": "display_data"
    }
   ],
   "source": [
    "set.seed(45)\n",
    "prior <- extract.prior( m4.5 )\n",
    "precis(prior)"
   ]
  },
  {
   "cell_type": "code",
   "execution_count": 195,
   "metadata": {},
   "outputs": [
    {
     "data": {
      "image/png": "[encoded data removed]",
      "text/plain": [
       "plot without title"
      ]
     },
     "metadata": {},
     "output_type": "display_data"
    }
   ],
   "source": [
    "plot(precis(prior))"
   ]
  },
  {
   "cell_type": "code",
   "execution_count": 191,
   "metadata": {},
   "outputs": [
    {
     "data": {
      "image/png": "[encoded data removed]",
      "text/plain": [
       "Plot with title \"\""
      ]
     },
     "metadata": {},
     "output_type": "display_data"
    }
   ],
   "source": [
    "w_seq <- seq( from=min(d$weight_s) , to=max(d$weight_s) , length.out=50 )\n",
    "w2_seq <- w_seq^2\n",
    "mu <- link( m4.5 , post=prior ,\n",
    "data=list( weight_s=w_seq , weight_s2=w2_seq ) )"
   ]
  },
  {
   "cell_type": "code",
   "execution_count": null,
   "metadata": {},
   "outputs": [],
   "source": [
    "# curve(dnorm(x , 178 , 20 ) , from=100 , to=250)\n",
    "# curve(dunif(x,min = 2, max = 50), from=0 , to=60)\n",
    "# curve(dlnorm(x,meanlog = 0, sdlog = 1), from=0 , to=2)\n",
    "\n",
    "sig <- runif(n = 10000, min = 0, max = 1)\n",
    "beta2 <- rlnorm(n = 10000, meanlog = 0, sdlog = 0.000025)\n",
    "beta1 <- rlnorm(n = 10000, meanlog = 0, sdlog = 0.000025)\n",
    "alpha <- rnorm(n = 10000, mean = 178, sd = 0.000025)\n",
    "x1 <- seq(to = 0, from = 1000, length.out = 10000)\n",
    "mu <- alpha + beta1*x1 + beta2*(x1^2)\n",
    "h <- rnorm(n = 10000, mean = mu , sd = sig)\n",
    "#dens(h, xlim=range(0,1000000))\n",
    "dens(mu, xlim=range(0,1000000))"
   ]
  },
  {
   "cell_type": "code",
   "execution_count": 70,
   "metadata": {},
   "outputs": [
    {
     "data": {
      "image/png": "[encoded data removed]",
      "text/plain": [
       "Plot with title \"\""
      ]
     },
     "metadata": {},
     "output_type": "display_data"
    }
   ],
   "source": [
    "dens(d$weight)"
   ]
  },
  {
   "cell_type": "code",
   "execution_count": 71,
   "metadata": {},
   "outputs": [
    {
     "data": {
      "image/png": "[encoded data removed]",
      "text/plain": [
       "Plot with title \"\""
      ]
     },
     "metadata": {},
     "output_type": "display_data"
    }
   ],
   "source": [
    "dens(d$height)"
   ]
  },
  {
   "cell_type": "code",
   "execution_count": 72,
   "metadata": {},
   "outputs": [
    {
     "data": {
      "text/html": [
       "334027.862059587"
      ],
      "text/latex": [
       "334027.862059587"
      ],
      "text/markdown": [
       "334027.862059587"
      ],
      "text/plain": [
       "[1] 334027.9"
      ]
     },
     "metadata": {},
     "output_type": "display_data"
    }
   ],
   "source": [
    "mean(mu)"
   ]
  },
  {
   "cell_type": "code",
   "execution_count": 85,
   "metadata": {},
   "outputs": [
    {
     "data": {
      "text/html": [
       "1.24363030138808"
      ],
      "text/latex": [
       "1.24363030138808"
      ],
      "text/markdown": [
       "1.24363030138808"
      ],
      "text/plain": [
       "[1] 1.24363"
      ]
     },
     "metadata": {},
     "output_type": "display_data"
    },
    {
     "data": {
      "image/png": "[encoded data removed]",
      "text/plain": [
       "plot without title"
      ]
     },
     "metadata": {},
     "output_type": "display_data"
    }
   ],
   "source": [
    "## R code 5.1\n",
    "# load data and copy\n",
    "library(rethinking)\n",
    "data(WaffleDivorce)\n",
    "d <- WaffleDivorce\n",
    "\n",
    "# standardize variables\n",
    "d$A <- scale( d$MedianAgeMarriage )\n",
    "d$D <- scale( d$Divorce )\n",
    "\n",
    "## R code 5.2\n",
    "sd( d$MedianAgeMarriage )\n",
    "\n",
    "## R code 5.3\n",
    "m5.1 <- quap(\n",
    "    alist(\n",
    "        D ~ dnorm( mu , sigma ) ,\n",
    "        mu <- a + bA * A ,\n",
    "        a ~ dnorm( 0 , 0.2 ) ,\n",
    "        bA ~ dnorm( 0 , 0.5 ) ,\n",
    "        sigma ~ dexp( 1 )\n",
    "    ) , data = d )\n",
    "\n",
    "## R code 5.4\n",
    "set.seed(10)\n",
    "prior <- extract.prior( m5.1 )\n",
    "mu <- link( m5.1 , post=prior , data=list( A=c(-2,2) ) )\n",
    "plot( NULL , xlim=c(-2,2) , ylim=c(-2,2) )\n",
    "for ( i in 1:50 ) lines( c(-2,2) , mu[i,] , col=col.alpha(\"black\",0.4) )"
   ]
  },
  {
   "cell_type": "code",
   "execution_count": null,
   "metadata": {},
   "outputs": [],
   "source": [
    "## above model \n",
    "model.1 <- quap(\n",
    "    alist(\n",
    "        D ~ dnorm( mu , sigma ) ,\n",
    "        mu <- a + b1 * x + b2 * (x^2),\n",
    "        a ~ dnorm( 178 , 1 ) ,\n",
    "        b1 ~ dlnorm( 0 , 0.5 ) ,\n",
    "        b2 ~ dlnorm( 0 , 0.5 ) ,\n",
    "        sigma ~ dunif( 0, 0.005 )\n",
    "    ) , data = list(x=x1, D=h ), start=list(x=178,D=178))"
   ]
  },
  {
   "cell_type": "code",
   "execution_count": 23,
   "metadata": {},
   "outputs": [
    {
     "ename": "ERROR",
     "evalue": "Error in quap(alist(D ~ dnorm(mu, sigma), mu <- a + b1 * x + b2 * (x^2), : non-finite finite-difference value [6]\nStart values for parameters may be too far from MAP.\nTry better priors or use explicit start values.\nIf you sampled random start values, just trying again may work.\nStart values used in this attempt:\nx = 178\nD = 178\na = 177.215090503859\nb1 = 1.61901072140391\nb2 = 0.842026000590819\nsigma = 0.000314911988098174\n",
     "output_type": "error",
     "traceback": [
      "Error in quap(alist(D ~ dnorm(mu, sigma), mu <- a + b1 * x + b2 * (x^2), : non-finite finite-difference value [6]\nStart values for parameters may be too far from MAP.\nTry better priors or use explicit start values.\nIf you sampled random start values, just trying again may work.\nStart values used in this attempt:\nx = 178\nD = 178\na = 177.215090503859\nb1 = 1.61901072140391\nb2 = 0.842026000590819\nsigma = 0.000314911988098174\nTraceback:\n",
      "1. quap(alist(D ~ dnorm(mu, sigma), mu <- a + b1 * x + b2 * (x^2), \n .     a ~ dnorm(178, 1), b1 ~ dlnorm(0, 0.5), b2 ~ dlnorm(0, 0.5), \n .     sigma ~ dunif(0, 0.005)), data = list(x = x1, D = h), start = list(x = 178, \n .     D = 178))",
      "2. stop(out_msg)"
     ]
    }
   ],
   "source": [
    "## R code 5.3\n",
    "model.1 <- quap(\n",
    "    alist(\n",
    "        D ~ dnorm( mu , sigma ) ,\n",
    "        mu <- a + b1 * x + b2 * (x^2),\n",
    "        a ~ dnorm( 178 , 1 ) ,\n",
    "        b1 ~ dlnorm( 0 , 0.5 ) ,\n",
    "        b2 ~ dlnorm( 0 , 0.5 ) ,\n",
    "        sigma ~ dunif( 0, 0.005 )\n",
    "    ) , data = list(x=x1, D=h ), start=list(x=178,D=178))"
   ]
  },
  {
   "cell_type": "code",
   "execution_count": 9,
   "metadata": {},
   "outputs": [
    {
     "ename": "ERROR",
     "evalue": "Error in eval(expr, envir, enclos): object 'model.1' not found\n",
     "output_type": "error",
     "traceback": [
      "Error in eval(expr, envir, enclos): object 'model.1' not found\nTraceback:\n"
     ]
    }
   ],
   "source": [
    "model.1"
   ]
  },
  {
   "cell_type": "code",
   "execution_count": null,
   "metadata": {},
   "outputs": [],
   "source": [
    "## R code 5.4\n",
    "set.seed(10)\n",
    "prior <- extract.prior( m5.1 )\n",
    "mu <- link( m5.1 , post=prior , data=list( A=c(-2,2) ) )\n",
    "plot( NULL , xlim=c(-2,2) , ylim=c(-2,2) )\n",
    "for ( i in 1:50 ) lines( c(-2,2) , mu[i,] , col=col.alpha(\"black\",0.4) )"
   ]
  },
  {
   "cell_type": "code",
   "execution_count": null,
   "metadata": {},
   "outputs": [],
   "source": [
    "# h ~ Norm(mu, sig)\n",
    "# mu <- alpha + beta1*x1 + beta2*x1^2\n",
    "# alpha ~ Norm(178,20)\n",
    "# beta1 ~ Log-Norm(0,1)\n",
    "# beta2 ~ Log-Norm(0,1)\n",
    "# sig ~ Unif(0,50)"
   ]
  },
  {
   "cell_type": "code",
   "execution_count": null,
   "metadata": {},
   "outputs": [],
   "source": [
    "# STAN generate fake data"
   ]
  },
  {
   "cell_type": "code",
   "execution_count": 1,
   "metadata": {},
   "outputs": [
    {
     "name": "stderr",
     "output_type": "stream",
     "text": [
      "Warning message:\n",
      "\"package 'rstan' was built under R version 3.3.2\"Loading required package: ggplot2\n",
      "Warning message:\n",
      "\"package 'ggplot2' was built under R version 3.3.2\"Loading required package: StanHeaders\n",
      "Warning message:\n",
      "\"package 'StanHeaders' was built under R version 3.3.2\"rstan (Version 2.13.2, packaged: 2016-12-18 07:04:42 UTC, GitRev: 5fa1e80eb817)\n",
      "For execution on a local, multicore CPU with excess RAM we recommend calling\n",
      "rstan_options(auto_write = TRUE)\n",
      "options(mc.cores = parallel::detectCores())\n"
     ]
    }
   ],
   "source": [
    "library(rstan)"
   ]
  },
  {
   "cell_type": "code",
   "execution_count": 4,
   "metadata": {},
   "outputs": [],
   "source": [
    "stancode <- \"\n",
    "// saved as categorical_model.stan\n",
    "data {\n",
    "  int N;\n",
    "  int P; // number of categories to be estimated\n",
    "  int y[N]; // outcomes\n",
    "  int<lower = 0, upper = 1> run_estimation; // a switch to evaluate the likelihood\n",
    "  real<lower = 0> prior_sd; // standard deviation of the prior on theta\n",
    "}\n",
    "parameters {\n",
    "  vector[P-1] theta_raw;\n",
    "}\n",
    "transformed parameters {\n",
    "  vector[P] theta;\n",
    "  theta[1] = 0.0;\n",
    "  theta[2:P] = theta_raw;\n",
    "}\n",
    "model {\n",
    "  // prior\n",
    "  theta_raw ~ normal(0, prior_sd);\n",
    "  \n",
    "  // likelihood, which we only evaluate conditionally\n",
    "  if(run_estimation==1){\n",
    "    y ~ categorical(softmax(theta));\n",
    "  }\n",
    "}\n",
    "generated quantities {\n",
    "  vector[N] y_sim;\n",
    "  for(i in 1:N) {\n",
    "    y_sim[i] = categorical_rng(softmax(theta));\n",
    "  }\n",
    "}\n",
    "\""
   ]
  },
  {
   "cell_type": "code",
   "execution_count": 5,
   "metadata": {},
   "outputs": [
    {
     "name": "stdout",
     "output_type": "stream",
     "text": [
      "In file included from C:/Users/hvill/Documents/R/win-library/3.3/BH/include/boost/config.hpp:39:0,\n",
      "                 from C:/Users/hvill/Documents/R/win-library/3.3/BH/include/boost/math/tools/config.hpp:13,\n",
      "                 from C:/Users/hvill/Documents/R/win-library/3.3/StanHeaders/include/stan/math/rev/core/var.hpp:7,\n",
      "                 from C:/Users/hvill/Documents/R/win-library/3.3/StanHeaders/include/stan/math/rev/core/gevv_vvv_vari.hpp:5,\n",
      "                 from C:/Users/hvill/Documents/R/win-library/3.3/StanHeaders/include/stan/math/rev/core.hpp:12,\n",
      "                 from C:/Users/hvill/Documents/R/win-library/3.3/StanHeaders/include/stan/math/rev/mat.hpp:4,\n",
      "                 from C:/Users/hvill/Documents/R/win-library/3.3/StanHeaders/include/stan/math.hpp:4,\n",
      "                 from C:/Users/hvill/Documents/R/win-library/3.3/StanHeaders/include/src/stan/model/model_header.hpp:4,\n",
      "                 from file3cc5315b04.cpp:8:\n",
      "C:/Users/hvill/Documents/R/win-library/3.3/BH/include/boost/config/compiler/gcc.hpp:186:0: warning: \"BOOST_NO_CXX11_RVALUE_REFERENCES\" redefined\n",
      " #  define BOOST_NO_CXX11_RVALUE_REFERENCES\n",
      " ^\n",
      "<command-line>:0:0: note: this is the location of the previous definition\n",
      "In file included from C:/Users/hvill/Documents/R/win-library/3.3/BH/include/boost/multi_array/base.hpp:28:0,\n",
      "                 from C:/Users/hvill/Documents/R/win-library/3.3/BH/include/boost/multi_array.hpp:21,\n",
      "                 from C:/Users/hvill/Documents/R/win-library/3.3/BH/include/boost/numeric/odeint/util/multi_array_adaption.hpp:29,\n",
      "                 from C:/Users/hvill/Documents/R/win-library/3.3/BH/include/boost/numeric/odeint.hpp:61,\n",
      "                 from C:/Users/hvill/Documents/R/win-library/3.3/StanHeaders/include/stan/math/prim/arr/functor/integrate_ode_rk45.hpp:13,\n",
      "                 from C:/Users/hvill/Documents/R/win-library/3.3/StanHeaders/include/stan/math/prim/arr.hpp:36,\n",
      "                 from C:/Users/hvill/Documents/R/win-library/3.3/StanHeaders/include/stan/math/prim/mat.hpp:281,\n",
      "                 from C:/Users/hvill/Documents/R/win-library/3.3/StanHeaders/include/stan/math/rev/mat.hpp:11,\n",
      "                 from C:/Users/hvill/Documents/R/win-library/3.3/StanHeaders/include/stan/math.hpp:4,\n",
      "                 from C:/Users/hvill/Documents/R/win-library/3.3/StanHeaders/include/src/stan/model/model_header.hpp:4,\n",
      "                 from file3cc5315b04.cpp:8:\n",
      "C:/Users/hvill/Documents/R/win-library/3.3/BH/include/boost/multi_array/concept_checks.hpp: In static member function 'static void boost::multi_array_concepts::detail::idgen_helper<N>::call(Array&, const IdxGen&, Call_Type)':\n",
      "C:/Users/hvill/Documents/R/win-library/3.3/BH/include/boost/multi_array/concept_checks.hpp:42:43: warning: typedef 'index_range' locally defined but not used [-Wunused-local-typedefs]\n",
      "       typedef typename Array::index_range index_range;\n",
      "                                           ^\n",
      "C:/Users/hvill/Documents/R/win-library/3.3/BH/include/boost/multi_array/concept_checks.hpp:43:37: warning: typedef 'index' locally defined but not used [-Wunused-local-typedefs]\n",
      "       typedef typename Array::index index;\n",
      "                                     ^\n",
      "C:/Users/hvill/Documents/R/win-library/3.3/BH/include/boost/multi_array/concept_checks.hpp: In static member function 'static void boost::multi_array_concepts::detail::idgen_helper<0ull>::call(Array&, const IdxGen&, Call_Type)':\n",
      "C:/Users/hvill/Documents/R/win-library/3.3/BH/include/boost/multi_array/concept_checks.hpp:53:43: warning: typedef 'index_range' locally defined but not used [-Wunused-local-typedefs]\n",
      "       typedef typename Array::index_range index_range;\n",
      "                                           ^\n",
      "C:/Users/hvill/Documents/R/win-library/3.3/BH/include/boost/multi_array/concept_checks.hpp:54:37: warning: typedef 'index' locally defined but not used [-Wunused-local-typedefs]\n",
      "       typedef typename Array::index index;\n",
      "                                     ^\n",
      "In file included from C:/Users/hvill/Documents/R/win-library/3.3/StanHeaders/include/stan/math/rev/core.hpp:42:0,\n",
      "                 from C:/Users/hvill/Documents/R/win-library/3.3/StanHeaders/include/stan/math/rev/mat.hpp:4,\n",
      "                 from C:/Users/hvill/Documents/R/win-library/3.3/StanHeaders/include/stan/math.hpp:4,\n",
      "                 from C:/Users/hvill/Documents/R/win-library/3.3/StanHeaders/include/src/stan/model/model_header.hpp:4,\n",
      "                 from file3cc5315b04.cpp:8:\n",
      "C:/Users/hvill/Documents/R/win-library/3.3/StanHeaders/include/stan/math/rev/core/set_zero_all_adjoints.hpp: At global scope:\n",
      "C:/Users/hvill/Documents/R/win-library/3.3/StanHeaders/include/stan/math/rev/core/set_zero_all_adjoints.hpp:14:17: warning: 'void stan::math::set_zero_all_adjoints()' defined but not used [-Wunused-function]\n",
      "     static void set_zero_all_adjoints() {\n",
      "                 ^\n",
      "\n",
      "SAMPLING FOR MODEL 'c90a85a31b50d9cd028f8ea682990b5a' NOW (CHAIN 1).\n",
      "\n",
      "Chain 1, Iteration:    1 / 2000 [  0%]  (Warmup)\n",
      "Chain 1, Iteration:  200 / 2000 [ 10%]  (Warmup)\n",
      "Chain 1, Iteration:  400 / 2000 [ 20%]  (Warmup)\n",
      "Chain 1, Iteration:  600 / 2000 [ 30%]  (Warmup)\n",
      "Chain 1, Iteration:  800 / 2000 [ 40%]  (Warmup)\n",
      "Chain 1, Iteration: 1000 / 2000 [ 50%]  (Warmup)\n",
      "Chain 1, Iteration: 1001 / 2000 [ 50%]  (Sampling)\n",
      "Chain 1, Iteration: 1200 / 2000 [ 60%]  (Sampling)\n",
      "Chain 1, Iteration: 1400 / 2000 [ 70%]  (Sampling)\n",
      "Chain 1, Iteration: 1600 / 2000 [ 80%]  (Sampling)\n",
      "Chain 1, Iteration: 1800 / 2000 [ 90%]  (Sampling)\n",
      "Chain 1, Iteration: 2000 / 2000 [100%]  (Sampling)\n",
      " Elapsed Time: 0.334 seconds (Warm-up)\n",
      "               0.346 seconds (Sampling)\n",
      "               0.68 seconds (Total)\n",
      "\n",
      "\n",
      "SAMPLING FOR MODEL 'c90a85a31b50d9cd028f8ea682990b5a' NOW (CHAIN 2).\n",
      "\n",
      "Chain 2, Iteration:    1 / 2000 [  0%]  (Warmup)\n",
      "Chain 2, Iteration:  200 / 2000 [ 10%]  (Warmup)\n",
      "Chain 2, Iteration:  400 / 2000 [ 20%]  (Warmup)\n",
      "Chain 2, Iteration:  600 / 2000 [ 30%]  (Warmup)\n",
      "Chain 2, Iteration:  800 / 2000 [ 40%]  (Warmup)\n",
      "Chain 2, Iteration: 1000 / 2000 [ 50%]  (Warmup)\n",
      "Chain 2, Iteration: 1001 / 2000 [ 50%]  (Sampling)\n",
      "Chain 2, Iteration: 1200 / 2000 [ 60%]  (Sampling)\n",
      "Chain 2, Iteration: 1400 / 2000 [ 70%]  (Sampling)\n",
      "Chain 2, Iteration: 1600 / 2000 [ 80%]  (Sampling)\n",
      "Chain 2, Iteration: 1800 / 2000 [ 90%]  (Sampling)\n",
      "Chain 2, Iteration: 2000 / 2000 [100%]  (Sampling)\n",
      " Elapsed Time: 0.34 seconds (Warm-up)\n",
      "               0.33 seconds (Sampling)\n",
      "               0.67 seconds (Total)\n",
      "\n",
      "\n",
      "SAMPLING FOR MODEL 'c90a85a31b50d9cd028f8ea682990b5a' NOW (CHAIN 3).\n",
      "\n",
      "Chain 3, Iteration:    1 / 2000 [  0%]  (Warmup)\n",
      "Chain 3, Iteration:  200 / 2000 [ 10%]  (Warmup)\n",
      "Chain 3, Iteration:  400 / 2000 [ 20%]  (Warmup)\n",
      "Chain 3, Iteration:  600 / 2000 [ 30%]  (Warmup)\n",
      "Chain 3, Iteration:  800 / 2000 [ 40%]  (Warmup)\n",
      "Chain 3, Iteration: 1000 / 2000 [ 50%]  (Warmup)\n",
      "Chain 3, Iteration: 1001 / 2000 [ 50%]  (Sampling)\n",
      "Chain 3, Iteration: 1200 / 2000 [ 60%]  (Sampling)\n",
      "Chain 3, Iteration: 1400 / 2000 [ 70%]  (Sampling)\n",
      "Chain 3, Iteration: 1600 / 2000 [ 80%]  (Sampling)\n",
      "Chain 3, Iteration: 1800 / 2000 [ 90%]  (Sampling)\n",
      "Chain 3, Iteration: 2000 / 2000 [100%]  (Sampling)\n",
      " Elapsed Time: 0.334 seconds (Warm-up)\n",
      "               0.326 seconds (Sampling)\n",
      "               0.66 seconds (Total)\n",
      "\n",
      "\n",
      "SAMPLING FOR MODEL 'c90a85a31b50d9cd028f8ea682990b5a' NOW (CHAIN 4).\n",
      "\n",
      "Chain 4, Iteration:    1 / 2000 [  0%]  (Warmup)\n",
      "Chain 4, Iteration:  200 / 2000 [ 10%]  (Warmup)\n",
      "Chain 4, Iteration:  400 / 2000 [ 20%]  (Warmup)\n",
      "Chain 4, Iteration:  600 / 2000 [ 30%]  (Warmup)\n",
      "Chain 4, Iteration:  800 / 2000 [ 40%]  (Warmup)\n",
      "Chain 4, Iteration: 1000 / 2000 [ 50%]  (Warmup)\n",
      "Chain 4, Iteration: 1001 / 2000 [ 50%]  (Sampling)\n",
      "Chain 4, Iteration: 1200 / 2000 [ 60%]  (Sampling)\n",
      "Chain 4, Iteration: 1400 / 2000 [ 70%]  (Sampling)\n",
      "Chain 4, Iteration: 1600 / 2000 [ 80%]  (Sampling)\n",
      "Chain 4, Iteration: 1800 / 2000 [ 90%]  (Sampling)\n",
      "Chain 4, Iteration: 2000 / 2000 [100%]  (Sampling)\n",
      " Elapsed Time: 0.33 seconds (Warm-up)\n",
      "               0.334 seconds (Sampling)\n",
      "               0.664 seconds (Total)\n",
      "\n"
     ]
    }
   ],
   "source": [
    "# compiled_model <- stan_model(\"categorical_model.stan\")\n",
    "compiled_model <- stan_model(model_code = stancode)\n",
    "\n",
    "sim_out <- sampling(compiled_model, data = list(N = 1000, \n",
    "                                                P = 5, \n",
    "                                                # Y should be real but fake data if we're simulating\n",
    "                                                # new Y\n",
    "                                                y = sample(1:2, 1000, replace = T), \n",
    "                                                run_estimation = 0,\n",
    "                                                prior_sd = 100))\n",
    "\n",
    "library(dplyr)\n",
    "\n",
    "fake_data_matrix  <- sim_out %>% \n",
    "  as.data.frame %>% \n",
    "  select(contains(\"y_sim\"))\n",
    "\n",
    "summary_tbl <- apply(fake_data_matrix[1:5,], 1, summary)"
   ]
  },
  {
   "cell_type": "code",
   "execution_count": 6,
   "metadata": {},
   "outputs": [
    {
     "data": {
      "text/html": [
       "<table>\n",
       "<thead><tr><th></th><th scope=col>1</th><th scope=col>2</th><th scope=col>3</th><th scope=col>4</th><th scope=col>5</th></tr></thead>\n",
       "<tbody>\n",
       "\t<tr><th scope=row>Min.</th><td>3    </td><td>2    </td><td>2    </td><td>3.000</td><td>3.000</td></tr>\n",
       "\t<tr><th scope=row>1st Qu.</th><td>3    </td><td>2    </td><td>2    </td><td>3.000</td><td>3.000</td></tr>\n",
       "\t<tr><th scope=row>Median</th><td>3    </td><td>2    </td><td>2    </td><td>3.000</td><td>3.000</td></tr>\n",
       "\t<tr><th scope=row>Mean</th><td>3    </td><td>2    </td><td>2    </td><td>3.091</td><td>3.008</td></tr>\n",
       "\t<tr><th scope=row>3rd Qu.</th><td>3    </td><td>2    </td><td>2    </td><td>3.000</td><td>3.000</td></tr>\n",
       "\t<tr><th scope=row>Max.</th><td>3    </td><td>2    </td><td>2    </td><td>4.000</td><td>5.000</td></tr>\n",
       "</tbody>\n",
       "</table>\n"
      ],
      "text/latex": [
       "\\begin{tabular}{r|lllll}\n",
       "  & 1 & 2 & 3 & 4 & 5\\\\\n",
       "\\hline\n",
       "\tMin. & 3     & 2     & 2     & 3.000 & 3.000\\\\\n",
       "\t1st Qu. & 3     & 2     & 2     & 3.000 & 3.000\\\\\n",
       "\tMedian & 3     & 2     & 2     & 3.000 & 3.000\\\\\n",
       "\tMean & 3     & 2     & 2     & 3.091 & 3.008\\\\\n",
       "\t3rd Qu. & 3     & 2     & 2     & 3.000 & 3.000\\\\\n",
       "\tMax. & 3     & 2     & 2     & 4.000 & 5.000\\\\\n",
       "\\end{tabular}\n"
      ],
      "text/markdown": [
       "\n",
       "| <!--/--> | 1 | 2 | 3 | 4 | 5 | \n",
       "|---|---|---|---|---|---|\n",
       "| Min. | 3     | 2     | 2     | 3.000 | 3.000 | \n",
       "| 1st Qu. | 3     | 2     | 2     | 3.000 | 3.000 | \n",
       "| Median | 3     | 2     | 2     | 3.000 | 3.000 | \n",
       "| Mean | 3     | 2     | 2     | 3.091 | 3.008 | \n",
       "| 3rd Qu. | 3     | 2     | 2     | 3.000 | 3.000 | \n",
       "| Max. | 3     | 2     | 2     | 4.000 | 5.000 | \n",
       "\n",
       "\n"
      ],
      "text/plain": [
       "        1 2 3 4     5    \n",
       "Min.    3 2 2 3.000 3.000\n",
       "1st Qu. 3 2 2 3.000 3.000\n",
       "Median  3 2 2 3.000 3.000\n",
       "Mean    3 2 2 3.091 3.008\n",
       "3rd Qu. 3 2 2 3.000 3.000\n",
       "Max.    3 2 2 4.000 5.000"
      ]
     },
     "metadata": {},
     "output_type": "display_data"
    }
   ],
   "source": [
    "summary_tbl"
   ]
  },
  {
   "cell_type": "code",
   "execution_count": null,
   "metadata": {},
   "outputs": [],
   "source": []
  }
 ],
 "metadata": {
  "kernelspec": {
   "display_name": "R",
   "language": "R",
   "name": "ir"
  },
  "language_info": {
   "codemirror_mode": "r",
   "file_extension": ".r",
   "mimetype": "text/x-r-source",
   "name": "R",
   "pygments_lexer": "r",
   "version": "3.5.1"
  },
  "toc": {
   "base_numbering": 1,
   "nav_menu": {},
   "number_sections": false,
   "sideBar": true,
   "skip_h1_title": false,
   "title_cell": "Table of Contents",
   "title_sidebar": "Contents",
   "toc_cell": false,
   "toc_position": {},
   "toc_section_display": true,
   "toc_window_display": false
  },
  "varInspector": {
   "cols": {
    "lenName": 16,
    "lenType": 16,
    "lenVar": 40
   },
   "kernels_config": {
    "python": {
     "delete_cmd_postfix": "",
     "delete_cmd_prefix": "del ",
     "library": "var_list.py",
     "varRefreshCmd": "print(var_dic_list())"
    },
    "r": {
     "delete_cmd_postfix": ") ",
     "delete_cmd_prefix": "rm(",
     "library": "var_list.r",
     "varRefreshCmd": "cat(var_dic_list()) "
    }
   },
   "types_to_exclude": [
    "module",
    "function",
    "builtin_function_or_method",
    "instance",
    "_Feature"
   ],
   "window_display": false
  }
 },
 "nbformat": 4,
 "nbformat_minor": 2
}
