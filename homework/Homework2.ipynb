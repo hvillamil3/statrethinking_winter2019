{
 "cells": [
  {
   "cell_type": "code",
   "execution_count": 5,
   "metadata": {
    "code_folding": [
     0
    ]
   },
   "outputs": [],
   "source": [
    "# libraries\n",
    "options(repr.plot.width=4, repr.plot.height=4)\n",
    "library(rethinking)"
   ]
  },
  {
   "cell_type": "markdown",
   "metadata": {},
   "source": [
    "# Q1\n",
    "- The weights listed below were recorded in the !Kung census, but heights\n",
    "were not recorded for these individuals.\n",
    "- Provide predicted heights and 89%\n",
    "compatibility intervals for each of these individuals.\n",
    "- That is, fill in the table\n",
    "below, using model-based predictions."
   ]
  },
  {
   "cell_type": "markdown",
   "metadata": {
    "heading_collapsed": true
   },
   "source": [
    "### Model"
   ]
  },
  {
   "cell_type": "code",
   "execution_count": 6,
   "metadata": {
    "code_folding": [
     0
    ],
    "hidden": true
   },
   "outputs": [
    {
     "data": {
      "text/plain": [
       "\n",
       "Quadratic approximate posterior distribution\n",
       "\n",
       "Formula:\n",
       "height ~ dnorm(mu, sigma)\n",
       "mu <- a + b1 * weight\n",
       "a ~ dnorm(0, 1)\n",
       "b1 ~ dlnorm(0, 1)\n",
       "sigma ~ dlnorm(0, 1)\n",
       "\n",
       "Posterior means:\n",
       "           a           b1        sigma \n",
       "5.912326e-07 9.406222e-01 3.386133e-01 \n",
       "\n",
       "Log-likelihood: -182.77 "
      ]
     },
     "metadata": {},
     "output_type": "display_data"
    }
   ],
   "source": [
    "# We want to predict height using weight.(model)\n",
    "# Individual | weight | expected height | 89% interval<p>\n",
    "#      1     | 45\n",
    "#      2     | 40\n",
    "#      3     | 65\n",
    "#      4     | 31\n",
    "#      5     | 53\n",
    "\n",
    "data(Howell1)\n",
    "d <- Howell1\n",
    "\n",
    "# Standardize data\n",
    "std.d <- data.frame(scale(d))\n",
    "# attributes(scale(d))\n",
    "\n",
    "# data is at the individual level.\n",
    "flist <- alist(\n",
    "    height ~ dnorm( mu, sigma ),\n",
    "    mu <- a + b1*weight ,\n",
    "    a ~ dnorm(0,1),\n",
    "    b1 ~ dlnorm(0,1),\n",
    "    sigma ~ dlnorm(0,1)\n",
    ")\n",
    "model <- quap(flist = flist, data =list(height=std.d$height,\n",
    "                                        weight=std.d$weight))\n",
    "model"
   ]
  },
  {
   "cell_type": "markdown",
   "metadata": {
    "heading_collapsed": true
   },
   "source": [
    "### Prediction"
   ]
  },
  {
   "cell_type": "code",
   "execution_count": 7,
   "metadata": {
    "code_folding": [
     0
    ],
    "hidden": true
   },
   "outputs": [
    {
     "data": {
      "text/html": [
       "<table>\n",
       "<thead><tr><th scope=col>weight</th><th scope=col>mu</th><th scope=col>Lower89</th><th scope=col>Upperr89</th></tr></thead>\n",
       "<tbody>\n",
       "\t<tr><td>45   </td><td>144.8</td><td>133.4</td><td>156.4</td></tr>\n",
       "\t<tr><td>40   </td><td>141.1</td><td>129.6</td><td>151.8</td></tr>\n",
       "\t<tr><td>65   </td><td>158.9</td><td>147.5</td><td>169.6</td></tr>\n",
       "\t<tr><td>31   </td><td>134.7</td><td>123.2</td><td>146.0</td></tr>\n",
       "\t<tr><td>53   </td><td>150.6</td><td>140.2</td><td>162.0</td></tr>\n",
       "</tbody>\n",
       "</table>\n"
      ],
      "text/latex": [
       "\\begin{tabular}{r|llll}\n",
       " weight & mu & Lower89 & Upperr89\\\\\n",
       "\\hline\n",
       "\t 45    & 144.8 & 133.4 & 156.4\\\\\n",
       "\t 40    & 141.1 & 129.6 & 151.8\\\\\n",
       "\t 65    & 158.9 & 147.5 & 169.6\\\\\n",
       "\t 31    & 134.7 & 123.2 & 146.0\\\\\n",
       "\t 53    & 150.6 & 140.2 & 162.0\\\\\n",
       "\\end{tabular}\n"
      ],
      "text/markdown": [
       "\n",
       "weight | mu | Lower89 | Upperr89 | \n",
       "|---|---|---|---|---|\n",
       "| 45    | 144.8 | 133.4 | 156.4 | \n",
       "| 40    | 141.1 | 129.6 | 151.8 | \n",
       "| 65    | 158.9 | 147.5 | 169.6 | \n",
       "| 31    | 134.7 | 123.2 | 146.0 | \n",
       "| 53    | 150.6 | 140.2 | 162.0 | \n",
       "\n",
       "\n"
      ],
      "text/plain": [
       "  weight mu    Lower89 Upperr89\n",
       "1 45     144.8 133.4   156.4   \n",
       "2 40     141.1 129.6   151.8   \n",
       "3 65     158.9 147.5   169.6   \n",
       "4 31     134.7 123.2   146.0   \n",
       "5 53     150.6 140.2   162.0   "
      ]
     },
     "metadata": {},
     "output_type": "display_data"
    }
   ],
   "source": [
    "# What I want to predict\n",
    "d.pred <- data.frame(\n",
    "    weight = c(45,40,65,31,53)\n",
    ")\n",
    "# Convert weights to z-score because data was standardized\n",
    "z.score <- function(x) {(x - 35.6106175924632)/27.6024476405647}\n",
    "# z.score(d.pred$weight)\n",
    "# 0.340164848052754 0.159021492031965 1.06473827213591 -0.167036548805455 0.629994217686017\n",
    "\n",
    "# Uncertainty around parameter mu\n",
    "height.posterior <- link(fit = model,data=list(weight=z.score(d.pred$weight)))\n",
    "\n",
    "# Uncertainty around sampling (predictions)\n",
    "sim.height <- sim( model , data = list(weight=z.score(d.pred$weight)) )\n",
    "# extract.samples(model) # parameters\n",
    "\n",
    "# Since we standardized before the modeling we now reverse the standardization.\n",
    "# also we use the mu and sd of the target variable (height)\n",
    "\n",
    "# Unstandardized height\n",
    "rev.z.score <- function(x) {(138.263596323529)+x*(20.746888222142)}\n",
    "\n",
    "# Height Predictions are.. \n",
    "d.pred$mu <- apply( rev.z.score(sim.height) , 2 , mean)\n",
    "d.pred$Lower89 <- apply( rev.z.score(sim.height) , 2 , PI,  prob=0.89 )[1,]\n",
    "d.pred$Upperr89 <- apply( rev.z.score(sim.height) , 2 , PI,  prob=0.89 )[2,]\n",
    "round(d.pred,1)"
   ]
  },
  {
   "cell_type": "markdown",
   "metadata": {
    "heading_collapsed": true
   },
   "source": [
    "### Plot"
   ]
  },
  {
   "cell_type": "code",
   "execution_count": 8,
   "metadata": {
    "code_folding": [
     0,
     7
    ],
    "hidden": true
   },
   "outputs": [
    {
     "ename": "ERROR",
     "evalue": "Error in parse(text = x, srcfile = src): <text>:8:1: unexpected '['\n7: # extra remove brackets\n8: [\n   ^\n",
     "output_type": "error",
     "traceback": [
      "Error in parse(text = x, srcfile = src): <text>:8:1: unexpected '['\n7: # extra remove brackets\n8: [\n   ^\nTraceback:\n"
     ]
    }
   ],
   "source": [
    "# Plots\n",
    "plot( individual ~ height , list(\n",
    "    height = rev.z.score(apply( sim.height , 2 , mean, prob=0.89 )),\n",
    "    individual = c(1,2,3,4,5)\n",
    ") , col=col.alpha(rangi2,1), xlim=c(120,170),\n",
    "     pch = 16, main='individual ~ height')\n",
    "# extra remove brackets\n",
    "[for ( i in 1:5 )\n",
    "    lines(x=c(rev.z.score(apply( sim.height , 2 , PI,  prob=0.89 )[i+(i-1)]),\n",
    "              rev.z.score(apply( sim.height , 2 , PI,  prob=0.89 )[i+i])),\n",
    "          y=c(i,i), lwd = 2 )\n",
    "# needed multiple for loops because didnt work otherwise.\n",
    "for ( i in 1:5 )\n",
    "    abline(v=rev.z.score(apply( sim.height , 2 , PI,  prob=0.89 )[i+(i-1)]),\n",
    "           lty=2,\n",
    "           col=c(ifelse((i+(i-1)) %% 2 ==0,'green','blue'),col.alpha(rangi2,0.5)),\n",
    "           lwd=2)\n",
    "for ( i in 1:5 )\n",
    "    abline(v=rev.z.score(apply( sim.height , 2 , PI,  prob=0.89 )[i+i]),\n",
    "           lty=2,\n",
    "           col=ifelse((i+(i-1)) %% 2 ==0,'blue','green'),\n",
    "           lwd=0)\n",
    "abline(v = mean(d$height), col='red', lty=2, lwd=2)]"
   ]
  },
  {
   "cell_type": "markdown",
   "metadata": {},
   "source": [
    "# Q2\n",
    "- Model the relationship between height (cm) and the natural logarithm of\n",
    "weight (log-kg):<p> log(weight).\n",
    "- Use the entire Howell1 data frame, all 544 rows, adults and non-adults. \n",
    "- Use any model type from Chapter 4 that you think useful:\n",
    "- an ordinary linear regression, a polynomial or a spline. \n",
    "- Plot the posterior predictions against the raw data."
   ]
  },
  {
   "cell_type": "code",
   "execution_count": null,
   "metadata": {
    "code_folding": [
     0
    ]
   },
   "outputs": [],
   "source": [
    "# model\n",
    "d$log_weight <- log(d$weight)\n",
    "# Standardize data\n",
    "std.d2 <- data.frame(scale(d))\n",
    "# data is at the individual level\n",
    "flist <- alist(\n",
    "    height ~ dnorm( mu, sigma ),\n",
    "    mu <- a + b1*log_weight ,\n",
    "    a ~ dnorm(0,1),\n",
    "    b1 ~ dlnorm(0,1),\n",
    "    sigma ~ dlnorm(0,1)\n",
    ")\n",
    "model1 <- quap(flist = flist, data =list(height=std.d2$height,\n",
    "                                         log_weight=std.d2$log_weight) )\n",
    "model1"
   ]
  },
  {
   "cell_type": "code",
   "execution_count": null,
   "metadata": {
    "code_folding": [
     0
    ]
   },
   "outputs": [],
   "source": [
    "# Predictions\n",
    "# z-scores for log_weight\n",
    "z_score_log <- function(x) {(x - 3.44232984801386)/0.575959647001175}\n",
    "\n",
    "# unstandardize weights\n",
    "inv_z_score_log <- function(x) {138.263596323529 + (x*27.6024476405647)}\n",
    "\n",
    "# Uncertainty around parameter.\n",
    "height.posterior <- link(fit = model1,data=list(log_weight=z_score_log(log(d.pred$weight))))\n",
    "# Uncertainty around sampling,prediction\n",
    "sim.height <- sim( model1 , data = list(log_weight=z_score_log(log(d.pred$weight))) )\n",
    "# prediction\n",
    "inv_z_score_log(apply(sim.height, 2, PI, .89))\n",
    "inv_z_score_log(apply(sim.height, 2, mean))"
   ]
  },
  {
   "cell_type": "markdown",
   "metadata": {
    "heading_collapsed": true
   },
   "source": [
    "### Plot"
   ]
  },
  {
   "cell_type": "code",
   "execution_count": null,
   "metadata": {
    "code_folding": [
     0
    ],
    "hidden": true
   },
   "outputs": [],
   "source": [
    "# Plot not working in tablet env\n",
    "plot( individual ~ height , list(\n",
    "    height = inv_z_score_log(apply( sim.height , 2 , mean, prob=0.89 )),\n",
    "    individual = c(1,2,3,4,5)\n",
    ") , col=col.alpha(rangi2,1), xlim=c(126,185),\n",
    "     pch = 16 )\n",
    "for ( i in 1:5 )\n",
    "    lines(x=c(inv_z_score_log(apply( sim.height , 2 , PI,  prob=0.89 )[i+(i-1)]),\n",
    "              inv_z_score_log(apply( sim.height , 2 , PI,  prob=0.89 )[i+i])),\n",
    "          y=c(i,i), lwd = 2 )\n",
    "# needed multiple for loops because didnt work otherwise.\n",
    "for ( i in 1:5 )\n",
    "    abline(v=inv_z_score_log(apply( sim.height , 2 , PI,  prob=0.89 )[i+(i-1)]),\n",
    "           lty=2,\n",
    "           col=c(ifelse((i+(i-1)) %% 2 ==0,'green','blue'),col.alpha(rangi2,0.5)),\n",
    "           lwd=2)\n",
    "for ( i in 1:5 )\n",
    "    abline(v=inv_z_score_log(apply( sim.height , 2 , PI,  prob=0.89 )[i+i]),\n",
    "           lty=2,\n",
    "           col=ifelse((i+(i-1)) %% 2 ==0,'blue','green'),\n",
    "           lwd=0)\n",
    "abline(v = mean(d$height), col='red', lty=2, lwd=2)"
   ]
  },
  {
   "cell_type": "code",
   "execution_count": null,
   "metadata": {
    "code_folding": [
     0
    ],
    "hidden": true
   },
   "outputs": [],
   "source": [
    "# Plot 2 (zoom in)\n",
    "seq.w <- seq(3, 64, 1)\n",
    "\n",
    "sim.height_vs_data <- sim( model1 ,\n",
    "                          data = list(log_weight=z_score_log(log(seq.w))))\n",
    "\n",
    "mu.height <- link(model1 , data = list(log_weight=z_score_log(log(seq.w))))\n",
    "\n",
    "mu <- inv_z_score_log(apply( mu.height , 2 , mean ))\n",
    "\n",
    "mu.PI <- inv_z_score_log(apply( mu.height , 2 , PI, prob=0.89 ))\n",
    "\n",
    "height.PI <- inv_z_score_log(apply( sim.height_vs_data , 2 , PI, prob=0.89 ))\n",
    "\n",
    "plot(d$height~d$log_weight,\n",
    "     col=col.alpha(rangi2,0.5),\n",
    "     xlim=range(20,26),\n",
    "     ylim=range(110,130)\n",
    "    )\n",
    "lines(seq.w, mu )\n",
    "shade(mu.PI, seq.w )\n",
    "shade(height.PI, seq.w )"
   ]
  },
  {
   "cell_type": "code",
   "execution_count": null,
   "metadata": {
    "code_folding": [
     0
    ],
    "hidden": true
   },
   "outputs": [],
   "source": [
    "# q-q plot actual ~ predictions\n",
    "plot(d$height~inv_z_score_log(apply(link(model1) , 2 , mean )),\n",
    "     xlab = 'Mu Model Posterior'\n",
    "    )\n",
    "abline(a = 0, b = 1 )"
   ]
  },
  {
   "cell_type": "code",
   "execution_count": null,
   "metadata": {
    "code_folding": [
     0
    ],
    "hidden": true
   },
   "outputs": [],
   "source": [
    "# dens plot\n",
    "dens(d$height, col='black')\n",
    "dens(inv_z_score_log(sim.height_vs_data), ylim=range(0,0.03), col='red', add = TRUE)\n",
    "abline(v = mean(inv_z_score_log(sim.height_vs_data)), col='red', lty=2, lwd=2)\n",
    "abline(v = mean(d$height), col='black', lty=2, lwd=2)"
   ]
  },
  {
   "cell_type": "markdown",
   "metadata": {},
   "source": [
    "# Q3\n",
    "- Plot the prior predictive distribution for the polynomial regression model in Chapter 4.  \n",
    "Section 4.5.1 (pg.111)\n",
    "- You can modify the code that plots the linear regression prior predictive distribution. \n",
    "- 20 or 30 parabolas from the prior should suffice to show where the prior probability resides.\n",
    "- Can you modify the prior distributions of α, β1, and β2 so that the prior\n",
    "predictions stay within the biologically reasonable outcome space?\n",
    "- That is to say: Do not try to fit the data by hand.\n",
    "- But do try to keep the curves consistent with what you know about height and weight,\n",
    "before seeing these exact data.\n"
   ]
  },
  {
   "cell_type": "code",
   "execution_count": 65,
   "metadata": {
    "code_folding": [
     0
    ]
   },
   "outputs": [
    {
     "data": {
      "text/html": [
       "<table>\n",
       "<thead><tr><th></th><th scope=col>mean</th><th scope=col>sd</th><th scope=col>5.5%</th><th scope=col>94.5%</th><th scope=col>histogram</th></tr></thead>\n",
       "<tbody>\n",
       "\t<tr><th scope=row>a</th><td>177.60867247                                                                                                                                                                                    </td><td>20.7249835                                                                                                                                                                                      </td><td>144.1785056                                                                                                                                                                                     </td><td>211.421234                                                                                                                                                                                      </td><td><span style=white-space:pre-wrap>&lt;U+2581&gt;&lt;U+2581&gt;&lt;U+2583&gt;&lt;U+2587&gt;&lt;U+2587&gt;&lt;U+2582&gt;&lt;U+2581&gt;&lt;U+2581&gt;                                        </span></td></tr>\n",
       "\t<tr><th scope=row>b1</th><td><span style=white-space:pre-wrap>  1.61236478</span>                                                                                                                                                        </td><td> 1.8754510                                                                                                                                                                                                  </td><td><span style=white-space:pre-wrap>  0.1867143</span>                                                                                                                                                         </td><td><span style=white-space:pre-wrap>  4.433442</span>                                                                                                                                                          </td><td><span style=white-space:pre-wrap>&lt;U+2587&gt;&lt;U+2582&gt;&lt;U+2581&gt;&lt;U+2581&gt;&lt;U+2581&gt;&lt;U+2581&gt;&lt;U+2581&gt;&lt;U+2581&gt;&lt;U+2581&gt;&lt;U+2581&gt;                        </span></td></tr>\n",
       "\t<tr><th scope=row>b2</th><td> -0.05036862                                                                                                                                                                          </td><td> 0.9688063                                                                                                                                                                            </td><td> -1.6422983                                                                                                                                                                           </td><td><span style=white-space:pre-wrap>  1.447121</span>                                                                                                                                    </td><td>&lt;U+2581&gt;&lt;U+2581&gt;&lt;U+2581&gt;&lt;U+2582&gt;&lt;U+2583&gt;&lt;U+2585&gt;&lt;U+2587&gt;&lt;U+2587&gt;&lt;U+2585&gt;&lt;U+2583&gt;&lt;U+2581&gt;&lt;U+2581&gt;&lt;U+2581&gt;</td></tr>\n",
       "\t<tr><th scope=row>sigma</th><td> 25.14432248                                                                                                                                                                                                </td><td>14.5856372                                                                                                                                                                                                  </td><td><span style=white-space:pre-wrap>  2.5161320</span>                                                                                                                                                         </td><td> 47.371388                                                                                                                                                                                                  </td><td><span style=white-space:pre-wrap>&lt;U+2587&gt;&lt;U+2587&gt;&lt;U+2585&gt;&lt;U+2587&gt;&lt;U+2587&gt;&lt;U+2587&gt;&lt;U+2587&gt;&lt;U+2587&gt;&lt;U+2587&gt;&lt;U+2587&gt;                        </span></td></tr>\n",
       "</tbody>\n",
       "</table>\n"
      ],
      "text/latex": [
       "\\begin{tabular}{r|lllll}\n",
       "  & mean & sd & 5.5\\% & 94.5\\% & histogram\\\\\n",
       "\\hline\n",
       "\ta & 177.60867247                                                                                             & 20.7249835                                                                                               & 144.1785056                                                                                              & 211.421234                                                                                               & <U+2581><U+2581><U+2583><U+2587><U+2587><U+2582><U+2581><U+2581>                                        \\\\\n",
       "\tb1 &   1.61236478                                                                                             &  1.8754510                                                                                               &   0.1867143                                                                                              &   4.433442                                                                                               & <U+2587><U+2582><U+2581><U+2581><U+2581><U+2581><U+2581><U+2581><U+2581><U+2581>                        \\\\\n",
       "\tb2 &  -0.05036862                                                                                             &  0.9688063                                                                                               &  -1.6422983                                                                                              &   1.447121                                                                                               & <U+2581><U+2581><U+2581><U+2582><U+2583><U+2585><U+2587><U+2587><U+2585><U+2583><U+2581><U+2581><U+2581>\\\\\n",
       "\tsigma &  25.14432248                                                                                             & 14.5856372                                                                                               &   2.5161320                                                                                              &  47.371388                                                                                               & <U+2587><U+2587><U+2585><U+2587><U+2587><U+2587><U+2587><U+2587><U+2587><U+2587>                        \\\\\n",
       "\\end{tabular}\n"
      ],
      "text/markdown": [
       "\n",
       "| <!--/--> | mean | sd | 5.5% | 94.5% | histogram | \n",
       "|---|---|---|---|\n",
       "| a | 177.60867247                                                                                             | 20.7249835                                                                                               | 144.1785056                                                                                              | 211.421234                                                                                               | <U+2581><U+2581><U+2583><U+2587><U+2587><U+2582><U+2581><U+2581>                                         | \n",
       "| b1 |   1.61236478                                                                                             |  1.8754510                                                                                               |   0.1867143                                                                                              |   4.433442                                                                                               | <U+2587><U+2582><U+2581><U+2581><U+2581><U+2581><U+2581><U+2581><U+2581><U+2581>                         | \n",
       "| b2 |  -0.05036862                                                                                             |  0.9688063                                                                                               |  -1.6422983                                                                                              |   1.447121                                                                                               | <U+2581><U+2581><U+2581><U+2582><U+2583><U+2585><U+2587><U+2587><U+2585><U+2583><U+2581><U+2581><U+2581> | \n",
       "| sigma |  25.14432248                                                                                             | 14.5856372                                                                                               |   2.5161320                                                                                              |  47.371388                                                                                               | <U+2587><U+2587><U+2585><U+2587><U+2587><U+2587><U+2587><U+2587><U+2587><U+2587>                         | \n",
       "\n",
       "\n"
      ],
      "text/plain": [
       "      mean         sd         5.5%        94.5%     \n",
       "a     177.60867247 20.7249835 144.1785056 211.421234\n",
       "b1      1.61236478  1.8754510   0.1867143   4.433442\n",
       "b2     -0.05036862  0.9688063  -1.6422983   1.447121\n",
       "sigma  25.14432248 14.5856372   2.5161320  47.371388\n",
       "      histogram                                                                                               \n",
       "a     <U+2581><U+2581><U+2583><U+2587><U+2587><U+2582><U+2581><U+2581>                                        \n",
       "b1    <U+2587><U+2582><U+2581><U+2581><U+2581><U+2581><U+2581><U+2581><U+2581><U+2581>                        \n",
       "b2    <U+2581><U+2581><U+2581><U+2582><U+2583><U+2585><U+2587><U+2587><U+2585><U+2583><U+2581><U+2581><U+2581>\n",
       "sigma <U+2587><U+2587><U+2585><U+2587><U+2587><U+2587><U+2587><U+2587><U+2587><U+2587>                        "
      ]
     },
     "metadata": {},
     "output_type": "display_data"
    }
   ],
   "source": [
    "# model\n",
    "library(rethinking)\n",
    "data(Howell1)\n",
    "d <- Howell1\n",
    "d$weight_s <- ( d$weight - mean(d$weight) )/sd(d$weight)\n",
    "d$weight_s2 <- d$weight_s^2\n",
    "m4.5 <- quap(\n",
    "    alist(\n",
    "    height ~ dnorm( mu , sigma ) ,\n",
    "    mu <- a + b1*weight_s + b2*weight_s2 ,\n",
    "    a ~ dnorm( 178 , 20 ) ,\n",
    "    b1 ~ dlnorm( 0 , 1 ) ,\n",
    "    b2 ~ dnorm( 0 , 1 ) ,\n",
    "    sigma ~ dunif( 0 , 50 )\n",
    "    ) ,\n",
    "    data=d )\n",
    "\n",
    "set.seed(45) #45 \n",
    "prior <- extract.prior( m4.5 )\n",
    "precis(prior)"
   ]
  },
  {
   "cell_type": "code",
   "execution_count": 71,
   "metadata": {
    "code_folding": [
     0
    ]
   },
   "outputs": [
    {
     "data": {
      "image/png": "[encoded data removed]",
      "text/plain": [
       "plot without title"
      ]
     },
     "metadata": {},
     "output_type": "display_data"
    }
   ],
   "source": [
    "# plot\n",
    "# mu <- link( m4.5 , post=prior , data=list( a=c(178,178), weight_s=c(-3,3), weight_s2=c(-3,3)))\n",
    "# made mistake above w^2 has to be 9 and always positive.\n",
    "# solution doesn't include alpha..why?\n",
    "w_seq <- seq( from=-2 , to=2 , # min and max of d$weight_s as per solution.\n",
    "    length.out=50 )\n",
    "w2_seq <- w_seq^2\n",
    "\n",
    "mu <- link( m4.5 , post=prior , data=list( weight_s=w_seq, weight_s2=w2_seq))\n",
    "\n",
    "plot( NULL , xlim=c(-2,2) , ylim=c(50,280) ,\n",
    "    xlab=\"weight (std)\" , ylab=\"height\")\n",
    "for ( i in 1:50 ) lines( w_seq , mu[i,] , col=col.alpha(\"black\",0.4) )"
   ]
  },
  {
   "cell_type": "code",
   "execution_count": 72,
   "metadata": {},
   "outputs": [
    {
     "data": {
      "image/png": "[encoded data removed]",
      "text/plain": [
       "plot without title"
      ]
     },
     "metadata": {},
     "output_type": "display_data"
    }
   ],
   "source": [
    "plot(precis(prior))"
   ]
  },
  {
   "cell_type": "code",
   "execution_count": null,
   "metadata": {},
   "outputs": [],
   "source": [
    "# Q3 was hard. Not sure why we didnt include alpa in link() because\n",
    "# not including the other parameters makes link() fail.\n",
    "# Also, I mesed up the sample data I didn't include the w^2 correctly. oops.\n",
    "# Otherwise everything was the same. take away is flat priors is anything goes\n",
    "# but the prior dont matter here because theres a lot of data so the likelihood\n",
    "# overwhelms any priors and the model is simple. but wont be the case in more\n",
    "# complicated cases."
   ]
  }
 ],
 "metadata": {
  "kernelspec": {
   "display_name": "R",
   "language": "R",
   "name": "ir"
  },
  "language_info": {
   "codemirror_mode": "r",
   "file_extension": ".r",
   "mimetype": "text/x-r-source",
   "name": "R",
   "pygments_lexer": "r",
   "version": "3.3.1"
  },
  "toc": {
   "base_numbering": 1,
   "nav_menu": {},
   "number_sections": false,
   "sideBar": true,
   "skip_h1_title": false,
   "title_cell": "Table of Contents",
   "title_sidebar": "Contents",
   "toc_cell": false,
   "toc_position": {},
   "toc_section_display": true,
   "toc_window_display": false
  },
  "varInspector": {
   "cols": {
    "lenName": 16,
    "lenType": 16,
    "lenVar": 40
   },
   "kernels_config": {
    "python": {
     "delete_cmd_postfix": "",
     "delete_cmd_prefix": "del ",
     "library": "var_list.py",
     "varRefreshCmd": "print(var_dic_list())"
    },
    "r": {
     "delete_cmd_postfix": ") ",
     "delete_cmd_prefix": "rm(",
     "library": "var_list.r",
     "varRefreshCmd": "cat(var_dic_list()) "
    }
   },
   "types_to_exclude": [
    "module",
    "function",
    "builtin_function_or_method",
    "instance",
    "_Feature"
   ],
   "window_display": false
  }
 },
 "nbformat": 4,
 "nbformat_minor": 2
}
