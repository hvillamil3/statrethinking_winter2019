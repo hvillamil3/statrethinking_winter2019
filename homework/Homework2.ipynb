{
 "cells": [
  {
   "cell_type": "code",
   "execution_count": 215,
   "metadata": {},
   "outputs": [],
   "source": [
    "options(repr.plot.width=4, repr.plot.height=4)\n",
    "library(rethinking)"
   ]
  },
  {
   "cell_type": "markdown",
   "metadata": {},
   "source": [
    "# Q1\n",
    "- The weights listed below were recorded in the !Kung census, but heights\n",
    "were not recorded for these individuals.\n",
    "- Provide predicted heights and 89%\n",
    "compatibility intervals for each of these individuals.\n",
    "- That is, fill in the table\n",
    "below, using model-based predictions."
   ]
  },
  {
   "cell_type": "code",
   "execution_count": 216,
   "metadata": {},
   "outputs": [],
   "source": [
    "# Individual | weight | expected height | 89% interval<p>\n",
    "#      1     | 45\n",
    "#      2     | 40\n",
    "#      3     | 65\n",
    "#      4     | 31\n",
    "#      5     | 53"
   ]
  },
  {
   "cell_type": "code",
   "execution_count": 217,
   "metadata": {},
   "outputs": [],
   "source": [
    "data(Howell1)\n",
    "d <- Howell1"
   ]
  },
  {
   "cell_type": "code",
   "execution_count": 218,
   "metadata": {},
   "outputs": [
    {
     "name": "stdout",
     "output_type": "stream",
     "text": [
      "'data.frame':\t544 obs. of  4 variables:\n",
      " $ height: num  152 140 137 157 145 ...\n",
      " $ weight: num  47.8 36.5 31.9 53 41.3 ...\n",
      " $ age   : num  63 63 65 41 51 35 32 27 19 54 ...\n",
      " $ male  : int  1 0 0 1 0 1 0 1 0 1 ...\n"
     ]
    }
   ],
   "source": [
    "str(d)"
   ]
  },
  {
   "cell_type": "code",
   "execution_count": 219,
   "metadata": {},
   "outputs": [
    {
     "data": {
      "text/html": [
       "20.746888222142"
      ],
      "text/latex": [
       "20.746888222142"
      ],
      "text/markdown": [
       "20.746888222142"
      ],
      "text/plain": [
       "[1] 20.74689"
      ]
     },
     "metadata": {},
     "output_type": "display_data"
    },
    {
     "data": {
      "text/html": [
       "29.3443933823529"
      ],
      "text/latex": [
       "29.3443933823529"
      ],
      "text/markdown": [
       "29.3443933823529"
      ],
      "text/plain": [
       "[1] 29.34439"
      ]
     },
     "metadata": {},
     "output_type": "display_data"
    }
   ],
   "source": [
    "# Standardize data\n",
    "std.d <- data.frame(scale(d))\n",
    "\n",
    "sd(d$age)\n",
    "mean(d$age)"
   ]
  },
  {
   "cell_type": "code",
   "execution_count": 220,
   "metadata": {},
   "outputs": [
    {
     "data": {
      "text/html": [
       "<dl>\n",
       "\t<dt>$dim</dt>\n",
       "\t\t<dd><ol class=list-inline>\n",
       "\t<li>544</li>\n",
       "\t<li>4</li>\n",
       "</ol>\n",
       "</dd>\n",
       "\t<dt>$dimnames</dt>\n",
       "\t\t<dd><ol>\n",
       "\t<li>NULL</li>\n",
       "\t<li><ol class=list-inline>\n",
       "\t<li>'height'</li>\n",
       "\t<li>'weight'</li>\n",
       "\t<li>'age'</li>\n",
       "\t<li>'male'</li>\n",
       "</ol>\n",
       "</li>\n",
       "</ol>\n",
       "</dd>\n",
       "\t<dt>$`scaled:center`</dt>\n",
       "\t\t<dd><dl class=dl-horizontal>\n",
       "\t<dt>height</dt>\n",
       "\t\t<dd>138.263596323529</dd>\n",
       "\t<dt>weight</dt>\n",
       "\t\t<dd>35.6106175924632</dd>\n",
       "\t<dt>age</dt>\n",
       "\t\t<dd>29.3443933823529</dd>\n",
       "\t<dt>male</dt>\n",
       "\t\t<dd>0.472426470588235</dd>\n",
       "</dl>\n",
       "</dd>\n",
       "\t<dt>$`scaled:scale`</dt>\n",
       "\t\t<dd><dl class=dl-horizontal>\n",
       "\t<dt>height</dt>\n",
       "\t\t<dd>27.6024476405647</dd>\n",
       "\t<dt>weight</dt>\n",
       "\t\t<dd>14.71917817928</dd>\n",
       "\t<dt>age</dt>\n",
       "\t\t<dd>20.746888222142</dd>\n",
       "\t<dt>male</dt>\n",
       "\t\t<dd>0.499698614615881</dd>\n",
       "</dl>\n",
       "</dd>\n",
       "</dl>\n"
      ],
      "text/latex": [
       "\\begin{description}\n",
       "\\item[\\$dim] \\begin{enumerate*}\n",
       "\\item 544\n",
       "\\item 4\n",
       "\\end{enumerate*}\n",
       "\n",
       "\\item[\\$dimnames] \\begin{enumerate}\n",
       "\\item NULL\n",
       "\\item \\begin{enumerate*}\n",
       "\\item 'height'\n",
       "\\item 'weight'\n",
       "\\item 'age'\n",
       "\\item 'male'\n",
       "\\end{enumerate*}\n",
       "\n",
       "\\end{enumerate}\n",
       "\n",
       "\\item[\\$`scaled:center`] \\begin{description*}\n",
       "\\item[height] 138.263596323529\n",
       "\\item[weight] 35.6106175924632\n",
       "\\item[age] 29.3443933823529\n",
       "\\item[male] 0.472426470588235\n",
       "\\end{description*}\n",
       "\n",
       "\\item[\\$`scaled:scale`] \\begin{description*}\n",
       "\\item[height] 27.6024476405647\n",
       "\\item[weight] 14.71917817928\n",
       "\\item[age] 20.746888222142\n",
       "\\item[male] 0.499698614615881\n",
       "\\end{description*}\n",
       "\n",
       "\\end{description}\n"
      ],
      "text/markdown": [
       "$dim\n",
       ":   1. 544\n",
       "2. 4\n",
       "\n",
       "\n",
       "\n",
       "$dimnames\n",
       ":   1. NULL\n",
       "2. 1. 'height'\n",
       "2. 'weight'\n",
       "3. 'age'\n",
       "4. 'male'\n",
       "\n",
       "\n",
       "\n",
       "\n",
       "\n",
       "\n",
       "$`scaled:center`\n",
       ":   height\n",
       ":   138.263596323529weight\n",
       ":   35.6106175924632age\n",
       ":   29.3443933823529male\n",
       ":   0.472426470588235\n",
       "\n",
       "\n",
       "$`scaled:scale`\n",
       ":   height\n",
       ":   27.6024476405647weight\n",
       ":   14.71917817928age\n",
       ":   20.746888222142male\n",
       ":   0.499698614615881\n",
       "\n",
       "\n",
       "\n",
       "\n"
      ],
      "text/plain": [
       "$dim\n",
       "[1] 544   4\n",
       "\n",
       "$dimnames\n",
       "$dimnames[[1]]\n",
       "NULL\n",
       "\n",
       "$dimnames[[2]]\n",
       "[1] \"height\" \"weight\" \"age\"    \"male\"  \n",
       "\n",
       "\n",
       "$`scaled:center`\n",
       "     height      weight         age        male \n",
       "138.2635963  35.6106176  29.3443934   0.4724265 \n",
       "\n",
       "$`scaled:scale`\n",
       "    height     weight        age       male \n",
       "27.6024476 14.7191782 20.7468882  0.4996986 \n"
      ]
     },
     "metadata": {},
     "output_type": "display_data"
    }
   ],
   "source": [
    "attributes(scale(d))"
   ]
  },
  {
   "cell_type": "code",
   "execution_count": 221,
   "metadata": {},
   "outputs": [],
   "source": [
    "# data is at the individual level.\n",
    "flist <- alist(\n",
    "    height ~ dnorm( mu, sigma ),\n",
    "    mu <- a + b1*weight ,\n",
    "    a ~ dnorm(0,1),\n",
    "    b1 ~ dlnorm(0,1),\n",
    "    sigma ~ dlnorm(0,1)\n",
    ")\n",
    "\n",
    "model <- quap(flist = flist, data =list(height=std.d$height,\n",
    "                                        weight=std.d$weight) )"
   ]
  },
  {
   "cell_type": "code",
   "execution_count": 222,
   "metadata": {},
   "outputs": [
    {
     "data": {
      "text/plain": [
       "\n",
       "Quadratic approximate posterior distribution\n",
       "\n",
       "Formula:\n",
       "height ~ dnorm(mu, sigma)\n",
       "mu <- a + b1 * weight\n",
       "a ~ dnorm(0, 1)\n",
       "b1 ~ dlnorm(0, 1)\n",
       "sigma ~ dlnorm(0, 1)\n",
       "\n",
       "Posterior means:\n",
       "            a            b1         sigma \n",
       "-2.171647e-08  9.406112e-01  3.386153e-01 \n",
       "\n",
       "Log-likelihood: -182.77 "
      ]
     },
     "metadata": {},
     "output_type": "display_data"
    }
   ],
   "source": [
    "model"
   ]
  },
  {
   "cell_type": "code",
   "execution_count": 223,
   "metadata": {},
   "outputs": [
    {
     "data": {
      "text/html": [
       "<ol class=list-inline>\n",
       "\t<li>0.340164848052754</li>\n",
       "\t<li>0.159021492031965</li>\n",
       "\t<li>1.06473827213591</li>\n",
       "\t<li>-0.167036548805455</li>\n",
       "\t<li>0.629994217686017</li>\n",
       "</ol>\n"
      ],
      "text/latex": [
       "\\begin{enumerate*}\n",
       "\\item 0.340164848052754\n",
       "\\item 0.159021492031965\n",
       "\\item 1.06473827213591\n",
       "\\item -0.167036548805455\n",
       "\\item 0.629994217686017\n",
       "\\end{enumerate*}\n"
      ],
      "text/markdown": [
       "1. 0.340164848052754\n",
       "2. 0.159021492031965\n",
       "3. 1.06473827213591\n",
       "4. -0.167036548805455\n",
       "5. 0.629994217686017\n",
       "\n",
       "\n"
      ],
      "text/plain": [
       "[1]  0.3401648  0.1590215  1.0647383 -0.1670365  0.6299942"
      ]
     },
     "metadata": {},
     "output_type": "display_data"
    }
   ],
   "source": [
    "d.pred <- list(\n",
    "    weight = c(45,40,65,31,53)\n",
    ")\n",
    "\n",
    "z.score <- function(x) {(x - 35.6106175924632)/27.6024476405647}\n",
    "z.score(d.pred$weight)"
   ]
  },
  {
   "cell_type": "code",
   "execution_count": 224,
   "metadata": {},
   "outputs": [],
   "source": [
    "# Uncertainty around parameter.\n",
    "height.posterior <- link(fit = model,data=list(weight=z.score(d.pred$weight)))\n",
    "# Uncertainty around sampling,prediction\n",
    "sim.height <- sim( model , data = list(weight=z.score(d.pred$weight)) )\n",
    "# extract.samples(model) # parameters"
   ]
  },
  {
   "cell_type": "code",
   "execution_count": 225,
   "metadata": {},
   "outputs": [
    {
     "data": {
      "text/html": [
       "<ol class=list-inline>\n",
       "\t<li>0.324624622429649</li>\n",
       "\t<li>0.135012066010244</li>\n",
       "\t<li>0.99828390976614</li>\n",
       "\t<li>-0.175969830441819</li>\n",
       "\t<li>0.58665759567585</li>\n",
       "</ol>\n"
      ],
      "text/latex": [
       "\\begin{enumerate*}\n",
       "\\item 0.324624622429649\n",
       "\\item 0.135012066010244\n",
       "\\item 0.99828390976614\n",
       "\\item -0.175969830441819\n",
       "\\item 0.58665759567585\n",
       "\\end{enumerate*}\n"
      ],
      "text/markdown": [
       "1. 0.324624622429649\n",
       "2. 0.135012066010244\n",
       "3. 0.99828390976614\n",
       "4. -0.175969830441819\n",
       "5. 0.58665759567585\n",
       "\n",
       "\n"
      ],
      "text/plain": [
       "[1]  0.3246246  0.1350121  0.9982839 -0.1759698  0.5866576"
      ]
     },
     "metadata": {},
     "output_type": "display_data"
    },
    {
     "data": {
      "text/html": [
       "<table>\n",
       "<tbody>\n",
       "\t<tr><th scope=row>5%</th><td>-0.2335298 </td><td>-0.4155610 </td><td>0.4507006  </td><td>-0.7234296 </td><td>0.008523315</td></tr>\n",
       "\t<tr><th scope=row>94%</th><td> 0.8912987 </td><td> 0.6801119 </td><td>1.5429597  </td><td> 0.3890454 </td><td>1.164312639</td></tr>\n",
       "</tbody>\n",
       "</table>\n"
      ],
      "text/latex": [
       "\\begin{tabular}{r|lllll}\n",
       "\t5\\% & -0.2335298  & -0.4155610  & 0.4507006   & -0.7234296  & 0.008523315\\\\\n",
       "\t94\\% &  0.8912987  &  0.6801119  & 1.5429597   &  0.3890454  & 1.164312639\\\\\n",
       "\\end{tabular}\n"
      ],
      "text/markdown": [
       "\n",
       "| 5% | -0.2335298  | -0.4155610  | 0.4507006   | -0.7234296  | 0.008523315 | \n",
       "| 94% |  0.8912987  |  0.6801119  | 1.5429597   |  0.3890454  | 1.164312639 | \n",
       "\n",
       "\n"
      ],
      "text/plain": [
       "    [,1]       [,2]       [,3]      [,4]       [,5]       \n",
       "5%  -0.2335298 -0.4155610 0.4507006 -0.7234296 0.008523315\n",
       "94%  0.8912987  0.6801119 1.5429597  0.3890454 1.164312639"
      ]
     },
     "metadata": {},
     "output_type": "display_data"
    }
   ],
   "source": [
    "apply( sim.height , 2 , mean, prob=0.89 )\n",
    "apply( sim.height , 2 , PI, prob=0.89 )"
   ]
  },
  {
   "cell_type": "code",
   "execution_count": 226,
   "metadata": {},
   "outputs": [
    {
     "data": {
      "text/html": [
       "<ol class=list-inline>\n",
       "\t<li>0.319846374539028</li>\n",
       "\t<li>0.149428488238251</li>\n",
       "\t<li>1.00151791974213</li>\n",
       "\t<li>-0.157323707103146</li>\n",
       "\t<li>0.59251499262027</li>\n",
       "</ol>\n"
      ],
      "text/latex": [
       "\\begin{enumerate*}\n",
       "\\item 0.319846374539028\n",
       "\\item 0.149428488238251\n",
       "\\item 1.00151791974213\n",
       "\\item -0.157323707103146\n",
       "\\item 0.59251499262027\n",
       "\\end{enumerate*}\n"
      ],
      "text/markdown": [
       "1. 0.319846374539028\n",
       "2. 0.149428488238251\n",
       "3. 1.00151791974213\n",
       "4. -0.157323707103146\n",
       "5. 0.59251499262027\n",
       "\n",
       "\n"
      ],
      "text/plain": [
       "[1]  0.3198464  0.1494285  1.0015179 -0.1573237  0.5925150"
      ]
     },
     "metadata": {},
     "output_type": "display_data"
    },
    {
     "data": {
      "text/html": [
       "<table>\n",
       "<tbody>\n",
       "\t<tr><th scope=row>5%</th><td>0.2952878 </td><td>0.1256604 </td><td>0.9687199 </td><td>-0.1809009</td><td>0.5648515 </td></tr>\n",
       "\t<tr><th scope=row>94%</th><td>0.3445864 </td><td>0.1731387 </td><td>1.0347438 </td><td>-0.1327089</td><td>0.6199354 </td></tr>\n",
       "</tbody>\n",
       "</table>\n"
      ],
      "text/latex": [
       "\\begin{tabular}{r|lllll}\n",
       "\t5\\% & 0.2952878  & 0.1256604  & 0.9687199  & -0.1809009 & 0.5648515 \\\\\n",
       "\t94\\% & 0.3445864  & 0.1731387  & 1.0347438  & -0.1327089 & 0.6199354 \\\\\n",
       "\\end{tabular}\n"
      ],
      "text/markdown": [
       "\n",
       "| 5% | 0.2952878  | 0.1256604  | 0.9687199  | -0.1809009 | 0.5648515  | \n",
       "| 94% | 0.3445864  | 0.1731387  | 1.0347438  | -0.1327089 | 0.6199354  | \n",
       "\n",
       "\n"
      ],
      "text/plain": [
       "    [,1]      [,2]      [,3]      [,4]       [,5]     \n",
       "5%  0.2952878 0.1256604 0.9687199 -0.1809009 0.5648515\n",
       "94% 0.3445864 0.1731387 1.0347438 -0.1327089 0.6199354"
      ]
     },
     "metadata": {},
     "output_type": "display_data"
    }
   ],
   "source": [
    "apply( height.posterior , 2 , mean, prob=0.89 )\n",
    "apply( height.posterior , 2 , PI,  prob=0.89 )"
   ]
  },
  {
   "cell_type": "code",
   "execution_count": 227,
   "metadata": {},
   "outputs": [],
   "source": [
    "# Unstandardized height\n",
    "rev.z.score <- function(x) {(138.263596323529)+x*(20.746888222142)}"
   ]
  },
  {
   "cell_type": "code",
   "execution_count": 228,
   "metadata": {},
   "outputs": [
    {
     "data": {
      "image/png": "[encoded data removed]",
      "text/plain": [
       "plot without title"
      ]
     },
     "metadata": {},
     "output_type": "display_data"
    }
   ],
   "source": [
    "plot( individual ~ height , list(\n",
    "    height = rev.z.score(apply( sim.height , 2 , mean, prob=0.89 )),\n",
    "    individual = c(1,2,3,4,5)\n",
    ") , col=col.alpha(rangi2,1), xlim=c(120,170),\n",
    "     pch = 16 )\n",
    "for ( i in 1:5 )\n",
    "    lines(x=c(rev.z.score(apply( sim.height , 2 , PI,  prob=0.89 )[i+(i-1)]),\n",
    "              rev.z.score(apply( sim.height , 2 , PI,  prob=0.89 )[i+i])),\n",
    "          y=c(i,i), lwd = 2 )\n",
    "# needed multiple for loops because didnt work otherwise.\n",
    "for ( i in 1:5 )\n",
    "    abline(v=rev.z.score(apply( sim.height , 2 , PI,  prob=0.89 )[i+(i-1)]),\n",
    "           lty=2,\n",
    "           col=c(ifelse((i+(i-1)) %% 2 ==0,'green','blue'),col.alpha(rangi2,0.5)),\n",
    "           lwd=2)\n",
    "for ( i in 1:5 )\n",
    "    abline(v=rev.z.score(apply( sim.height , 2 , PI,  prob=0.89 )[i+i]),\n",
    "           lty=2,\n",
    "           col=ifelse((i+(i-1)) %% 2 ==0,'blue','green'),\n",
    "           lwd=0)\n",
    "abline(v = mean(d$height), col='red', lty=2, lwd=2)"
   ]
  },
  {
   "cell_type": "code",
   "execution_count": 229,
   "metadata": {},
   "outputs": [
    {
     "data": {
      "text/html": [
       "138.263596323529"
      ],
      "text/latex": [
       "138.263596323529"
      ],
      "text/markdown": [
       "138.263596323529"
      ],
      "text/plain": [
       "[1] 138.2636"
      ]
     },
     "metadata": {},
     "output_type": "display_data"
    }
   ],
   "source": [
    "mean(d$height)"
   ]
  },
  {
   "cell_type": "markdown",
   "metadata": {},
   "source": [
    "# Q2\n",
    "- Model the relationship between height (cm) and the natural logarithm of\n",
    "weight (log-kg):<p> log(weight).\n",
    "- Use the entire Howell1 data frame, all 544 rows, adults and non-adults. \n",
    "- Use any model type from Chapter 4 that you think useful:\n",
    "- an ordinary linear regression, a polynomial or a spline. \n",
    "- Plot the posterior predictions against the raw data."
   ]
  },
  {
   "cell_type": "code",
   "execution_count": 230,
   "metadata": {},
   "outputs": [],
   "source": [
    "d$log_weight <- log(d$weight)"
   ]
  },
  {
   "cell_type": "code",
   "execution_count": 231,
   "metadata": {},
   "outputs": [
    {
     "data": {
      "text/html": [
       "20.746888222142"
      ],
      "text/latex": [
       "20.746888222142"
      ],
      "text/markdown": [
       "20.746888222142"
      ],
      "text/plain": [
       "[1] 20.74689"
      ]
     },
     "metadata": {},
     "output_type": "display_data"
    },
    {
     "data": {
      "text/html": [
       "29.3443933823529"
      ],
      "text/latex": [
       "29.3443933823529"
      ],
      "text/markdown": [
       "29.3443933823529"
      ],
      "text/plain": [
       "[1] 29.34439"
      ]
     },
     "metadata": {},
     "output_type": "display_data"
    }
   ],
   "source": [
    "# Standardize data\n",
    "std.d2 <- data.frame(scale(d))\n",
    "\n",
    "sd(d$age)\n",
    "mean(d$age)"
   ]
  },
  {
   "cell_type": "code",
   "execution_count": 232,
   "metadata": {},
   "outputs": [],
   "source": [
    "# data is at the individual level.\n",
    "flist <- alist(\n",
    "    height ~ dnorm( mu, sigma ),\n",
    "    mu <- a + b1*weight ,\n",
    "    a ~ dnorm(0,1),\n",
    "    b1 ~ dlnorm(0,1),\n",
    "    sigma ~ dlnorm(0,1)\n",
    ")\n",
    "\n",
    "model1 <- quap(flist = flist, data =list(height=std.d2$height,\n",
    "                                         weight=std.d2$log_weight) )"
   ]
  },
  {
   "cell_type": "code",
   "execution_count": 233,
   "metadata": {},
   "outputs": [
    {
     "data": {
      "text/plain": [
       "\n",
       "Quadratic approximate posterior distribution\n",
       "\n",
       "Formula:\n",
       "height ~ dnorm(mu, sigma)\n",
       "mu <- a + b1 * weight\n",
       "a ~ dnorm(0, 1)\n",
       "b1 ~ dlnorm(0, 1)\n",
       "sigma ~ dlnorm(0, 1)\n",
       "\n",
       "Posterior means:\n",
       "            a            b1         sigma \n",
       "-9.756892e-09  9.824490e-01  1.861445e-01 \n",
       "\n",
       "Log-likelihood: 143.04 "
      ]
     },
     "metadata": {},
     "output_type": "display_data"
    }
   ],
   "source": [
    "model1"
   ]
  },
  {
   "cell_type": "code",
   "execution_count": 234,
   "metadata": {},
   "outputs": [
    {
     "data": {
      "text/html": [
       "<dl>\n",
       "\t<dt>$dim</dt>\n",
       "\t\t<dd><ol class=list-inline>\n",
       "\t<li>544</li>\n",
       "\t<li>5</li>\n",
       "</ol>\n",
       "</dd>\n",
       "\t<dt>$dimnames</dt>\n",
       "\t\t<dd><ol>\n",
       "\t<li>NULL</li>\n",
       "\t<li><ol class=list-inline>\n",
       "\t<li>'height'</li>\n",
       "\t<li>'weight'</li>\n",
       "\t<li>'age'</li>\n",
       "\t<li>'male'</li>\n",
       "\t<li>'log_weight'</li>\n",
       "</ol>\n",
       "</li>\n",
       "</ol>\n",
       "</dd>\n",
       "\t<dt>$`scaled:center`</dt>\n",
       "\t\t<dd><dl class=dl-horizontal>\n",
       "\t<dt>height</dt>\n",
       "\t\t<dd>138.263596323529</dd>\n",
       "\t<dt>weight</dt>\n",
       "\t\t<dd>35.6106175924632</dd>\n",
       "\t<dt>age</dt>\n",
       "\t\t<dd>29.3443933823529</dd>\n",
       "\t<dt>male</dt>\n",
       "\t\t<dd>0.472426470588235</dd>\n",
       "\t<dt>log_weight</dt>\n",
       "\t\t<dd>3.44232984801386</dd>\n",
       "</dl>\n",
       "</dd>\n",
       "\t<dt>$`scaled:scale`</dt>\n",
       "\t\t<dd><dl class=dl-horizontal>\n",
       "\t<dt>height</dt>\n",
       "\t\t<dd>27.6024476405647</dd>\n",
       "\t<dt>weight</dt>\n",
       "\t\t<dd>14.71917817928</dd>\n",
       "\t<dt>age</dt>\n",
       "\t\t<dd>20.746888222142</dd>\n",
       "\t<dt>male</dt>\n",
       "\t\t<dd>0.499698614615881</dd>\n",
       "\t<dt>log_weight</dt>\n",
       "\t\t<dd>0.575959647001175</dd>\n",
       "</dl>\n",
       "</dd>\n",
       "</dl>\n"
      ],
      "text/latex": [
       "\\begin{description}\n",
       "\\item[\\$dim] \\begin{enumerate*}\n",
       "\\item 544\n",
       "\\item 5\n",
       "\\end{enumerate*}\n",
       "\n",
       "\\item[\\$dimnames] \\begin{enumerate}\n",
       "\\item NULL\n",
       "\\item \\begin{enumerate*}\n",
       "\\item 'height'\n",
       "\\item 'weight'\n",
       "\\item 'age'\n",
       "\\item 'male'\n",
       "\\item 'log\\_weight'\n",
       "\\end{enumerate*}\n",
       "\n",
       "\\end{enumerate}\n",
       "\n",
       "\\item[\\$`scaled:center`] \\begin{description*}\n",
       "\\item[height] 138.263596323529\n",
       "\\item[weight] 35.6106175924632\n",
       "\\item[age] 29.3443933823529\n",
       "\\item[male] 0.472426470588235\n",
       "\\item[log\\textbackslash{}\\_weight] 3.44232984801386\n",
       "\\end{description*}\n",
       "\n",
       "\\item[\\$`scaled:scale`] \\begin{description*}\n",
       "\\item[height] 27.6024476405647\n",
       "\\item[weight] 14.71917817928\n",
       "\\item[age] 20.746888222142\n",
       "\\item[male] 0.499698614615881\n",
       "\\item[log\\textbackslash{}\\_weight] 0.575959647001175\n",
       "\\end{description*}\n",
       "\n",
       "\\end{description}\n"
      ],
      "text/markdown": [
       "$dim\n",
       ":   1. 544\n",
       "2. 5\n",
       "\n",
       "\n",
       "\n",
       "$dimnames\n",
       ":   1. NULL\n",
       "2. 1. 'height'\n",
       "2. 'weight'\n",
       "3. 'age'\n",
       "4. 'male'\n",
       "5. 'log_weight'\n",
       "\n",
       "\n",
       "\n",
       "\n",
       "\n",
       "\n",
       "$`scaled:center`\n",
       ":   height\n",
       ":   138.263596323529weight\n",
       ":   35.6106175924632age\n",
       ":   29.3443933823529male\n",
       ":   0.472426470588235log_weight\n",
       ":   3.44232984801386\n",
       "\n",
       "\n",
       "$`scaled:scale`\n",
       ":   height\n",
       ":   27.6024476405647weight\n",
       ":   14.71917817928age\n",
       ":   20.746888222142male\n",
       ":   0.499698614615881log_weight\n",
       ":   0.575959647001175\n",
       "\n",
       "\n",
       "\n",
       "\n"
      ],
      "text/plain": [
       "$dim\n",
       "[1] 544   5\n",
       "\n",
       "$dimnames\n",
       "$dimnames[[1]]\n",
       "NULL\n",
       "\n",
       "$dimnames[[2]]\n",
       "[1] \"height\"     \"weight\"     \"age\"        \"male\"       \"log_weight\"\n",
       "\n",
       "\n",
       "$`scaled:center`\n",
       "     height      weight         age        male  log_weight \n",
       "138.2635963  35.6106176  29.3443934   0.4724265   3.4423298 \n",
       "\n",
       "$`scaled:scale`\n",
       "    height     weight        age       male log_weight \n",
       "27.6024476 14.7191782 20.7468882  0.4996986  0.5759596 \n"
      ]
     },
     "metadata": {},
     "output_type": "display_data"
    }
   ],
   "source": [
    "attributes(scale(d))"
   ]
  },
  {
   "cell_type": "code",
   "execution_count": 235,
   "metadata": {},
   "outputs": [],
   "source": [
    "z_score_log <- function(x) {(x - 3.44232984801386)/0.575959647001175}"
   ]
  },
  {
   "cell_type": "code",
   "execution_count": 236,
   "metadata": {},
   "outputs": [
    {
     "data": {
      "text/html": [
       "<ol class=list-inline>\n",
       "\t<li>0.632566263371775</li>\n",
       "\t<li>0.428067499839226</li>\n",
       "\t<li>1.27102206846148</li>\n",
       "\t<li>-0.0144847708900285</li>\n",
       "\t<li>0.916665027293457</li>\n",
       "</ol>\n"
      ],
      "text/latex": [
       "\\begin{enumerate*}\n",
       "\\item 0.632566263371775\n",
       "\\item 0.428067499839226\n",
       "\\item 1.27102206846148\n",
       "\\item -0.0144847708900285\n",
       "\\item 0.916665027293457\n",
       "\\end{enumerate*}\n"
      ],
      "text/markdown": [
       "1. 0.632566263371775\n",
       "2. 0.428067499839226\n",
       "3. 1.27102206846148\n",
       "4. -0.0144847708900285\n",
       "5. 0.916665027293457\n",
       "\n",
       "\n"
      ],
      "text/plain": [
       "[1]  0.63256626  0.42806750  1.27102207 -0.01448477  0.91666503"
      ]
     },
     "metadata": {},
     "output_type": "display_data"
    }
   ],
   "source": [
    "z_score_log(log(d.pred$weight))"
   ]
  },
  {
   "cell_type": "code",
   "execution_count": 237,
   "metadata": {},
   "outputs": [],
   "source": [
    "inv_z_score_log <- function(x) {138.263596323529 + (x*27.6024476405647)}"
   ]
  },
  {
   "cell_type": "code",
   "execution_count": 238,
   "metadata": {},
   "outputs": [],
   "source": [
    "# Uncertainty around parameter.\n",
    "height.posterior <- link(fit = model1,data=list(weight=z_score_log(log(d.pred$weight))))\n",
    "# Uncertainty around sampling,prediction\n",
    "sim.height <- sim( model1 , data = list(weight=z_score_log(log(d.pred$weight))) )"
   ]
  },
  {
   "cell_type": "code",
   "execution_count": 239,
   "metadata": {},
   "outputs": [
    {
     "data": {
      "text/html": [
       "<table>\n",
       "<tbody>\n",
       "\t<tr><th scope=row>5%</th><td>147.0769</td><td>141.2254</td><td>164.6967</td><td>129.5964</td><td>154.7323</td></tr>\n",
       "\t<tr><th scope=row>94%</th><td>163.1871</td><td>157.7961</td><td>180.3532</td><td>145.7442</td><td>171.4217</td></tr>\n",
       "</tbody>\n",
       "</table>\n"
      ],
      "text/latex": [
       "\\begin{tabular}{r|lllll}\n",
       "\t5\\% & 147.0769 & 141.2254 & 164.6967 & 129.5964 & 154.7323\\\\\n",
       "\t94\\% & 163.1871 & 157.7961 & 180.3532 & 145.7442 & 171.4217\\\\\n",
       "\\end{tabular}\n"
      ],
      "text/markdown": [
       "\n",
       "| 5% | 147.0769 | 141.2254 | 164.6967 | 129.5964 | 154.7323 | \n",
       "| 94% | 163.1871 | 157.7961 | 180.3532 | 145.7442 | 171.4217 | \n",
       "\n",
       "\n"
      ],
      "text/plain": [
       "    [,1]     [,2]     [,3]     [,4]     [,5]    \n",
       "5%  147.0769 141.2254 164.6967 129.5964 154.7323\n",
       "94% 163.1871 157.7961 180.3532 145.7442 171.4217"
      ]
     },
     "metadata": {},
     "output_type": "display_data"
    }
   ],
   "source": [
    "inv_z_score_log(apply(sim.height, 2, PI, .89))"
   ]
  },
  {
   "cell_type": "code",
   "execution_count": 240,
   "metadata": {},
   "outputs": [
    {
     "data": {
      "image/png": "[encoded data removed]",
      "text/plain": [
       "plot without title"
      ]
     },
     "metadata": {},
     "output_type": "display_data"
    }
   ],
   "source": [
    "plot( individual ~ height , list(\n",
    "    height = inv_z_score_log(apply( sim.height , 2 , mean, prob=0.89 )),\n",
    "    individual = c(1,2,3,4,5)\n",
    ") , col=col.alpha(rangi2,1), xlim=c(126,185),\n",
    "     pch = 16 )\n",
    "for ( i in 1:5 )\n",
    "    lines(x=c(inv_z_score_log(apply( sim.height , 2 , PI,  prob=0.89 )[i+(i-1)]),\n",
    "              inv_z_score_log(apply( sim.height , 2 , PI,  prob=0.89 )[i+i])),\n",
    "          y=c(i,i), lwd = 2 )\n",
    "# needed multiple for loops because didnt work otherwise.\n",
    "for ( i in 1:5 )\n",
    "    abline(v=inv_z_score_log(apply( sim.height , 2 , PI,  prob=0.89 )[i+(i-1)]),\n",
    "           lty=2,\n",
    "           col=c(ifelse((i+(i-1)) %% 2 ==0,'green','blue'),col.alpha(rangi2,0.5)),\n",
    "           lwd=2)\n",
    "for ( i in 1:5 )\n",
    "    abline(v=inv_z_score_log(apply( sim.height , 2 , PI,  prob=0.89 )[i+i]),\n",
    "           lty=2,\n",
    "           col=ifelse((i+(i-1)) %% 2 ==0,'blue','green'),\n",
    "           lwd=0)\n",
    "abline(v = mean(d$height), col='red', lty=2, lwd=2)"
   ]
  },
  {
   "cell_type": "code",
   "execution_count": 276,
   "metadata": {},
   "outputs": [],
   "source": [
    "seq.w <- seq(3, 64, 1)\n",
    "\n",
    "sim.height_vs_data <- sim( model1 ,\n",
    "                          data = list(weight=z_score_log(log(seq.w))))\n",
    "\n",
    "mu.height <- link(model1 , data = list(weight=z_score_log(log(seq.w))))\n",
    "\n",
    "mu <- inv_z_score_log(apply( mu.height , 2 , mean ))\n",
    "\n",
    "mu.PI <- inv_z_score_log(apply( mu.height , 2 , PI, prob=0.89 ))\n",
    "\n",
    "height.PI <- inv_z_score_log(apply( sim.height_vs_data , 2 , PI, prob=0.89 ))"
   ]
  },
  {
   "cell_type": "code",
   "execution_count": 285,
   "metadata": {},
   "outputs": [
    {
     "data": {
      "image/png": "[encoded data removed]",
      "text/plain": [
       "plot without title"
      ]
     },
     "metadata": {},
     "output_type": "display_data"
    }
   ],
   "source": [
    "plot(d$height~d$weight,\n",
    "     col=col.alpha(rangi2,0.5),\n",
    "     xlim=range(20,26),\n",
    "     ylim=range(110,130)\n",
    "    )\n",
    "lines(seq.w, mu )\n",
    "shade(mu.PI, seq.w )\n",
    "shade(height.PI, seq.w )"
   ]
  },
  {
   "cell_type": "code",
   "execution_count": 297,
   "metadata": {},
   "outputs": [
    {
     "data": {
      "image/png": "[encoded data removed]",
      "text/plain": [
       "plot without title"
      ]
     },
     "metadata": {},
     "output_type": "display_data"
    }
   ],
   "source": [
    "plot(d$height~inv_z_score_log(apply(link(model1) , 2 , mean )),\n",
    "     xlab = 'Mu Model Posterior'\n",
    "    )\n",
    "abline(a = 0, b = 1 )"
   ]
  },
  {
   "cell_type": "code",
   "execution_count": 324,
   "metadata": {},
   "outputs": [
    {
     "data": {
      "image/png": "[encoded data removed]",
      "text/plain": [
       "Plot with title \"\""
      ]
     },
     "metadata": {},
     "output_type": "display_data"
    }
   ],
   "source": [
    "dens(d$height, col='black')\n",
    "dens(inv_z_score_log(sim.height_vs_data), ylim=range(0,0.03), col='red', add = TRUE)\n",
    "abline(v = mean(inv_z_score_log(sim.height_vs_data)), col='red', lty=2, lwd=2)\n",
    "abline(v = mean(d$height), col='black', lty=2, lwd=2)"
   ]
  },
  {
   "cell_type": "markdown",
   "metadata": {},
   "source": [
    "# Q3\n",
    "- Plot the prior predictive distribution for the polynomial regression model in Chapter 4.  \n",
    "Section 4.5.1 (pg.111)\n",
    "- You can modify the code that plots the linear regression prior predictive distribution. \n",
    "- 20 or 30 parabolas from the prior should suffice to show where the prior probability resides.\n",
    "- Can you modify the prior distributions of α, β1, and β2 so that the prior\n",
    "predictions stay within the biologically reasonable outcome space?\n",
    "- That is to say: Do not try to fit the data by hand.\n",
    "- But do try to keep the curves consistent with what you know about height and weight,\n",
    "before seeing these exact data.\n"
   ]
  },
  {
   "cell_type": "code",
   "execution_count": 395,
   "metadata": {},
   "outputs": [
    {
     "data": {
      "image/png": "[encoded data removed]",
      "text/plain": [
       "Plot with title \"\""
      ]
     },
     "metadata": {},
     "output_type": "display_data"
    }
   ],
   "source": [
    "# h ~ Norm(mu, sig)\n",
    "# mu <- alpha + beta1*x1 + beta2*x1^2\n",
    "# alpha ~ Norm(178,20)\n",
    "# beta1 ~ Log-Norm(0,1)\n",
    "# beta2 ~ Log-Norm(0,1)\n",
    "# sig ~ Unif(0,50)\n",
    "\n",
    "# curve(dnorm(x , 178 , 20 ) , from=100 , to=250)\n",
    "# curve(dunif(x,min = 2, max = 50), from=0 , to=60)\n",
    "# curve(dlnorm(x,meanlog = 0, sdlog = 1), from=0 , to=2)\n",
    "\n",
    "sig <- runif(n = 10000, min = 0, max = 10)\n",
    "beta2 <- rlnorm(n = 10000, meanlog = 0, sdlog = 1)\n",
    "beta1 <- rlnorm(n = 10000, meanlog = 0, sdlog = 1)\n",
    "alpha <- rnorm(n = 10000, mean = 178, sd = 1)\n",
    "x1 <- seq(to = 0, from = 1000, length.out = 10000)\n",
    "mu <- alpha + beta1*x1 + beta2*x1^2\n",
    "h <- rnorm(n = 10000, mean = mu , sd = sig)\n",
    "#dens(h, xlim=range(0,1000000))\n",
    "dens(mu, xlim=range(0,1000000))"
   ]
  },
  {
   "cell_type": "code",
   "execution_count": 370,
   "metadata": {},
   "outputs": [
    {
     "data": {
      "image/png": "[encoded data removed]",
      "text/plain": [
       "Plot with title \"\""
      ]
     },
     "metadata": {},
     "output_type": "display_data"
    }
   ],
   "source": [
    "dens(d$weight)"
   ]
  },
  {
   "cell_type": "code",
   "execution_count": 371,
   "metadata": {},
   "outputs": [
    {
     "data": {
      "image/png": "[encoded data removed]",
      "text/plain": [
       "Plot with title \"\""
      ]
     },
     "metadata": {},
     "output_type": "display_data"
    }
   ],
   "source": [
    "dens(d$height)"
   ]
  },
  {
   "cell_type": "code",
   "execution_count": 387,
   "metadata": {},
   "outputs": [
    {
     "data": {
      "text/html": [
       "516648.025676554"
      ],
      "text/latex": [
       "516648.025676554"
      ],
      "text/markdown": [
       "516648.025676554"
      ],
      "text/plain": [
       "[1] 516648"
      ]
     },
     "metadata": {},
     "output_type": "display_data"
    }
   ],
   "source": [
    "mean(mu)"
   ]
  },
  {
   "cell_type": "code",
   "execution_count": null,
   "metadata": {},
   "outputs": [],
   "source": []
  },
  {
   "cell_type": "code",
   "execution_count": null,
   "metadata": {},
   "outputs": [],
   "source": []
  }
 ],
 "metadata": {
  "kernelspec": {
   "display_name": "R",
   "language": "R",
   "name": "ir"
  },
  "language_info": {
   "codemirror_mode": "r",
   "file_extension": ".r",
   "mimetype": "text/x-r-source",
   "name": "R",
   "pygments_lexer": "r",
   "version": "3.3.1"
  },
  "toc": {
   "base_numbering": 1,
   "nav_menu": {},
   "number_sections": false,
   "sideBar": true,
   "skip_h1_title": false,
   "title_cell": "Table of Contents",
   "title_sidebar": "Contents",
   "toc_cell": false,
   "toc_position": {},
   "toc_section_display": true,
   "toc_window_display": false
  },
  "varInspector": {
   "cols": {
    "lenName": 16,
    "lenType": 16,
    "lenVar": 40
   },
   "kernels_config": {
    "python": {
     "delete_cmd_postfix": "",
     "delete_cmd_prefix": "del ",
     "library": "var_list.py",
     "varRefreshCmd": "print(var_dic_list())"
    },
    "r": {
     "delete_cmd_postfix": ") ",
     "delete_cmd_prefix": "rm(",
     "library": "var_list.r",
     "varRefreshCmd": "cat(var_dic_list()) "
    }
   },
   "types_to_exclude": [
    "module",
    "function",
    "builtin_function_or_method",
    "instance",
    "_Feature"
   ],
   "window_display": false
  }
 },
 "nbformat": 4,
 "nbformat_minor": 2
}
